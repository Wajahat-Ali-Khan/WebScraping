{
 "cells": [
  {
   "cell_type": "code",
   "execution_count": 3,
   "id": "efdf24ac",
   "metadata": {},
   "outputs": [],
   "source": [
    "# Importing\n",
    "from selenium import webdriver\n",
    "from selenium.webdriver.common.keys import Keys\n",
    "from selenium.webdriver.common.by import By\n",
    "from selenium.webdriver.support.ui import WebDriverWait\n",
    "from selenium.webdriver.support import expected_conditions as EC\n",
    "from selenium import webdriver\n",
    "from bs4 import BeautifulSoup as bs\n",
    "import re as re\n",
    "import time\n",
    "import pandas as pd"
   ]
  },
  {
   "cell_type": "code",
   "execution_count": null,
   "id": "49abc2a2",
   "metadata": {},
   "outputs": [],
   "source": [
    "# Get Webdriver path, username and password\n",
    "PATH = input(\"Enter the Webdriver path: \")\n",
    "USERNAME = input(\"Enter the username: \")\n",
    "PASSWORD = input(\"Enter the password: \")\n",
    "print(PATH)\n",
    "print(USERNAME)\n",
    "print(PASSWORD)"
   ]
  },
  {
   "cell_type": "code",
   "execution_count": 7,
   "id": "303d0220",
   "metadata": {},
   "outputs": [
    {
     "name": "stderr",
     "output_type": "stream",
     "text": [
      "/tmp/ipykernel_3018/2727746819.py:2: DeprecationWarning: executable_path has been deprecated, please pass in a Service object\n",
      "  driver = webdriver.Chrome(PATH)\n"
     ]
    }
   ],
   "source": [
    "# Use driver to open the link\n",
    "driver = webdriver.Chrome(PATH)\n",
    "driver.get(\"https://www.linkedin.com/login\")\n",
    "time.sleep(3)"
   ]
  },
  {
   "cell_type": "code",
   "execution_count": null,
   "id": "d4b5b1fb",
   "metadata": {},
   "outputs": [],
   "source": [
    "# Use login credentials to login\n",
    "email=driver.find_element_by_id(\"username\")\n",
    "email.send_keys(USERNAME)\n",
    "password=driver.find_element_by_id(\"password\")\n",
    "password.send_keys(PASSWORD)\n",
    "time.sleep(3)\n",
    "password.send_keys(Keys.RETURN)\n",
    "url = driver.current_url\n",
    "print(url)\n",
    "driver.get(url)\n",
    "data = driver.page_source\n",
    "print(data)"
   ]
  },
  {
   "cell_type": "code",
   "execution_count": 36,
   "id": "ea8b2e56",
   "metadata": {},
   "outputs": [],
   "source": [
    "# Creating lists\n",
    "# post_links = []\n",
    "# post_texts = []\n",
    "# post_names = []"
   ]
  },
  {
   "cell_type": "code",
   "execution_count": 9,
   "id": "17ffaa03",
   "metadata": {},
   "outputs": [
    {
     "name": "stderr",
     "output_type": "stream",
     "text": [
      "/usr/lib/python3/dist-packages/requests/__init__.py:89: RequestsDependencyWarning: urllib3 (1.26.9) or chardet (3.0.4) doesn't match a supported version!\n",
      "  warnings.warn(\"urllib3 ({}) or chardet ({}) doesn't match a supported \"\n"
     ]
    }
   ],
   "source": [
    "import requests\n",
    "from csv import writer"
   ]
  },
  {
   "cell_type": "code",
   "execution_count": 6,
   "id": "bc3f06b4",
   "metadata": {},
   "outputs": [
    {
     "name": "stdout",
     "output_type": "stream",
     "text": [
      "https://www.linkedin.com/feed/\n",
      "<Response [200]>\n"
     ]
    }
   ],
   "source": [
    "# url= driver.current_url\n",
    "# print(url)\n",
    "# # url = \"https://www.amazon.com/s?k=gaming+keyboard&pd_rd_r=20d76277-e558-40b8-b7ec-12b637647b9f&pd_rd_w=d4WV7&pd_rd_wg=hi17L&pf_rd_p=12129333-2117-4490-9c17-6d31baf0582a&pf_rd_r=N1AKG5HJ0CQ9FDYZE07G&ref=pd_gw_unk\"\n",
    "# page = requests.get(url)\n",
    "# print(page)"
   ]
  },
  {
   "cell_type": "code",
   "execution_count": 7,
   "id": "2afce63b",
   "metadata": {},
   "outputs": [
    {
     "name": "stderr",
     "output_type": "stream",
     "text": [
      "C:\\Users\\CZ3~1\\AppData\\Local\\Temp/ipykernel_7028/4064794439.py:1: DeprecationWarning: executable_path has been deprecated, please pass in a Service object\n",
      "  driver1 = webdriver.Chrome(PATH)\n"
     ]
    }
   ],
   "source": [
    "# driver1 = webdriver.Chrome(PATH)\n",
    "# driver1.get(url)\n",
    "# data = driver1.page_source\n"
   ]
  },
  {
   "cell_type": "code",
   "execution_count": null,
   "id": "19f91ed1",
   "metadata": {},
   "outputs": [],
   "source": [
    "soup = bs(data.content, 'html.parser')\n",
    "lists = soup.find_all(\"div\", {\"class\":\"feed-shared-actor display-flex feed-shared-actor--with-control-menu\"})\n",
    "print(lists)"
   ]
  },
  {
   "cell_type": "code",
   "execution_count": 49,
   "id": "7d904cc5",
   "metadata": {},
   "outputs": [],
   "source": [
    "from csv import writer\n",
    "with open('LinkedInProfiles.csv', 'w', encoding='utf8', newline='') as f:\n",
    "    thewriter = writer(f)\n",
    "    header = ['Name']\n",
    "    thewriter.writerow(header)\n",
    "\n",
    "    for list in lists:\n",
    "        name = list.find('span', dir_=\"ltr\").text.replace('\\n', '')\n",
    "#         sold = list.find('span', class_=\"BOLD\")\n",
    "        if name is not None:\n",
    "            name = name.text.replace('\\n', '')\n",
    "        else:\n",
    "            name = \"No Name\"\n",
    "#         price = list.find('span', class_=\"s-item__price\").text.replace('\\n', '')\n",
    "#         shipping = list.find('span', class_=\"s-item__shipping s-item__logisticsCost\")\n",
    "#         if shipping is not None:\n",
    "#             shipping = shipping.text.replace('\\n', '')\n",
    "#         else:\n",
    "#             shipping = 'No Shipping Specified'\n",
    "#         return_status = list.find('span', class_=\"s-item__free-returns s-item__freeReturnsNoFee\")\n",
    "#         if return_status is not None:\n",
    "#             return_status = return_status.text.replace('\\n', '')\n",
    "#         else:\n",
    "#             return_status = 'No Return Specified'\n",
    "#         condition = list.find('span', class_=\"SECONDARY_INFO\").text.replace('\\n', '')\n",
    "        \n",
    "        info = [name]\n",
    "        thewriter.writerow(info)\n",
    "        driver.quit()"
   ]
  },
  {
   "cell_type": "code",
   "execution_count": 37,
   "id": "d0e5020d",
   "metadata": {},
   "outputs": [],
   "source": [
    "# # Our web scraper Function\n",
    "# def Scrape_func(a,b,c):\n",
    "#     name = a[28:-1]\n",
    "#     page = a\n",
    "#     time.sleep(10)\n",
    "\n",
    "#     driver.get(page + 'detail/recent-activity/shares/')  \n",
    "#     start=time.time()\n",
    "#     lastHeight = driver.execute_script(\"return document.body.scrollHeight\")\n",
    "#     while True:\n",
    "#         driver.execute_script(\"window.scrollTo(0, document.body.scrollHeight);\")\n",
    "#         time.sleep(5)\n",
    "#         newHeight = driver.execute_script(\"return document.body.scrollHeight\")\n",
    "#         if newHeight == lastHeight:\n",
    "#             break\n",
    "#         lastHeight = newHeight\n",
    "#         end=time.time()\n",
    "#         if round(end-start)>20:\n",
    "#             break\n",
    "\n",
    "#     company_page = driver.page_source   \n",
    "\n",
    "#     linkedin_soup = bs(company_page.encode(\"utf-8\"), \"html\")\n",
    "#     linkedin_soup.prettify()\n",
    "#     containers = linkedin_soup.findAll(\"div\",{\"class\":\"occludable-update ember-view\"})\n",
    "#     print(\"Fetching data from account: \"+ name)\n",
    "#     iterations = 0\n",
    "#     nos = int(input(\"Enter number of posts: \"))\n",
    "#     for container in containers:\n",
    "\n",
    "#         try:\n",
    "#             text_box = container.find(\"div\",{\"class\":\"feed-shared-update-v2__description-wrapper ember-view\"})\n",
    "#             text = text_box.find(\"span\",{\"dir\":\"ltr\"})\n",
    "#             b.append(text.text.strip())\n",
    "#             c.append(name)\n",
    "#             iterations += 1\n",
    "#             print(iterations)\n",
    "            \n",
    "#             if(iterations==nos):\n",
    "#                 break\n",
    "\n",
    "#         except:\n",
    "#             pass   "
   ]
  },
  {
   "cell_type": "code",
   "execution_count": 38,
   "id": "58a68c55",
   "metadata": {},
   "outputs": [
    {
     "name": "stdout",
     "output_type": "stream",
     "text": [
      "Enter the number of entries: 2\n",
      "Enter the link: https://www.linkedin.com/in/sudalairajkumar/\n",
      "Enter the link: https://www.linkedin.com/in/santhosh-mathai-0306a89/\n",
      "Fetching data from account: sudalairajkumar\n",
      "Enter number of posts: 10\n",
      "Fetching data from account: santhosh-mathai-0306a89\n",
      "Enter number of posts: 10\n"
     ]
    }
   ],
   "source": [
    "# # Using recursion with our function\n",
    "# n = int(input(\"Enter the number of entries: \"))\n",
    "# for i in range(n):\n",
    "#     post_links.append(input(\"Enter the link: \"))\n",
    "# for j in range(n):\n",
    "#     Scrape_func(post_links[j],post_texts,post_names)\n",
    "\n",
    "\n",
    "        \n",
    "# driver.quit()"
   ]
  },
  {
   "cell_type": "code",
   "execution_count": 39,
   "id": "4e7d7077",
   "metadata": {},
   "outputs": [],
   "source": [
    "# # Saving the data\n",
    "# data = {\n",
    "#     \"Name\": post_names,\n",
    "#     \"Content\": post_texts,\n",
    "# }\n",
    "\n",
    "# df = pd.DataFrame(data)\n",
    "# df.to_csv(\"test1.csv\", encoding='utf-8', index=False)\n",
    "\n",
    "# writer = pd.ExcelWriter(\"test1.xlsx\", engine='xlsxwriter')\n",
    "# df.to_excel(writer, index =False)\n",
    "# writer.save()\n",
    "\n",
    "\n"
   ]
  },
  {
   "cell_type": "code",
   "execution_count": null,
   "id": "e478323f",
   "metadata": {},
   "outputs": [],
   "source": []
  }
 ],
 "metadata": {
  "kernelspec": {
   "display_name": "Python 3 (ipykernel)",
   "language": "python",
   "name": "python3"
  },
  "language_info": {
   "codemirror_mode": {
    "name": "ipython",
    "version": 3
   },
   "file_extension": ".py",
   "mimetype": "text/x-python",
   "name": "python",
   "nbconvert_exporter": "python",
   "pygments_lexer": "ipython3",
   "version": "3.8.10"
  }
 },
 "nbformat": 4,
 "nbformat_minor": 5
}
