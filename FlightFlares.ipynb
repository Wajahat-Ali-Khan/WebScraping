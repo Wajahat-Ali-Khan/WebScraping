{
 "cells": [
  {
   "cell_type": "code",
   "execution_count": 1,
   "id": "facf3926",
   "metadata": {},
   "outputs": [],
   "source": [
    "from selenium import webdriver\n",
    "from selenium.webdriver.common.keys import Keys\n",
    "from selenium.webdriver.support import expected_conditions as EC\n",
    "from selenium.webdriver.common.by import By\n",
    "from selenium.webdriver.support.wait import WebDriverWait\n",
    "import pandas as pd\n",
    "import time\n",
    "from bs4 import BeautifulSoup\n",
    "import requests\n",
    "from csv import writer"
   ]
  },
  {
   "cell_type": "code",
   "execution_count": 2,
   "id": "adf9a767",
   "metadata": {},
   "outputs": [
    {
     "name": "stderr",
     "output_type": "stream",
     "text": [
      "/tmp/ipykernel_7728/3440779317.py:1: DeprecationWarning: executable_path has been deprecated, please pass in a Service object\n",
      "  driver = webdriver.Chrome(executable_path='/home/const/Downloads/chromedriver_linux64/chromedriver')\n"
     ]
    }
   ],
   "source": [
    "\n",
    "driver = webdriver.Chrome(executable_path='/home/const/Downloads/chromedriver_linux64/chromedriver')\n",
    "driver.get(\"https://www.airblue.com/agents/\")\n"
   ]
  },
  {
   "cell_type": "code",
   "execution_count": 3,
   "id": "fc6c3837",
   "metadata": {},
   "outputs": [],
   "source": [
    "username = WebDriverWait(driver,10).until(EC.element_to_be_clickable((By.CSS_SELECTOR,\"input[name='login']\")))\n",
    "password = WebDriverWait(driver,10).until(EC.element_to_be_clickable((By.CSS_SELECTOR,\"input[name='password']\")))"
   ]
  },
  {
   "cell_type": "code",
   "execution_count": 4,
   "id": "a463a9cc",
   "metadata": {},
   "outputs": [
    {
     "name": "stdout",
     "output_type": "stream",
     "text": [
      "Enter the username: scraper\n",
      "Enter the password: mehman2022\n"
     ]
    }
   ],
   "source": [
    "username.clear()\n",
    "password.clear()\n",
    "\n",
    "USERNAME = input(\"Enter the username: \")\n",
    "PASSWORD = input(\"Enter the password: \")\n",
    "\n",
    "username.send_keys(USERNAME)\n",
    "password.send_keys(PASSWORD)"
   ]
  },
  {
   "cell_type": "code",
   "execution_count": 7,
   "id": "d78ffd0a",
   "metadata": {},
   "outputs": [],
   "source": [
    "log_in = WebDriverWait(driver,10).until(EC.element_to_be_clickable((By.CSS_SELECTOR,\"input[type='submit']\"))).click()\n"
   ]
  },
  {
   "cell_type": "markdown",
   "id": "9ee3e6e8",
   "metadata": {},
   "source": [
    "# SEARCH FOR FLIGHT"
   ]
  },
  {
   "cell_type": "code",
   "execution_count": 8,
   "id": "6240f821",
   "metadata": {},
   "outputs": [
    {
     "name": "stdout",
     "output_type": "stream",
     "text": [
      "Enter Arrival City ID:ISB\n",
      "Enter Departure City ID:DXB\n",
      "Enter Departure Date:16-June\n",
      "Enter Arrival Date:19-June\n"
     ]
    }
   ],
   "source": [
    "arrival_cityID = input('Enter Arrival City ID:')"
   ]
  },
  {
   "cell_type": "code",
   "execution_count": null,
   "id": "f21119f8",
   "metadata": {},
   "outputs": [],
   "source": [
    "departure_cityID = input('Enter Departure City ID:')"
   ]
  },
  {
   "cell_type": "code",
   "execution_count": 21,
   "id": "292b8048",
   "metadata": {},
   "outputs": [
    {
     "name": "stdout",
     "output_type": "stream",
     "text": [
      "Enter Departure Date:14-June\n"
     ]
    }
   ],
   "source": [
    "departDate = input('Enter Departure Date:')"
   ]
  },
  {
   "cell_type": "code",
   "execution_count": null,
   "id": "89c708e7",
   "metadata": {},
   "outputs": [],
   "source": [
    "arrivalDate = input('Enter Arrival Date:')"
   ]
  },
  {
   "cell_type": "code",
   "execution_count": 13,
   "id": "ecd0f95e",
   "metadata": {},
   "outputs": [
    {
     "name": "stdout",
     "output_type": "stream",
     "text": [
      "Enter the type of Flight:One Way\n"
     ]
    }
   ],
   "source": [
    "flightType = input('Enter the type of Flight:')"
   ]
  },
  {
   "cell_type": "code",
   "execution_count": 24,
   "id": "adc2ef40",
   "metadata": {},
   "outputs": [],
   "source": [
    "flight_type = driver.find_element(By.XPATH,'//*[@id=\"app\"]/div/form/ul/li/label/span[text()=\"'+flightType+'\"]').click()"
   ]
  },
  {
   "cell_type": "code",
   "execution_count": 25,
   "id": "4b2a5a1f",
   "metadata": {},
   "outputs": [],
   "source": [
    "\n",
    "departure_dropdown = driver.find_element(By.XPATH,\"//*[@id='app']/div/form/div/div[1]/div/div/div/div[1]/div[1]/div/input[2]\").click()\n",
    "\n",
    "departure_city = driver.find_element(By.XPATH,\"//*[@id='\"+departure_cityID+\"']/span\").click()"
   ]
  },
  {
   "cell_type": "code",
   "execution_count": 26,
   "id": "eb74a3a2",
   "metadata": {},
   "outputs": [],
   "source": [
    "\n",
    "arrival_dropdown = driver.find_element(By.XPATH,\"//*[@id='app']/div/form/div/div[1]/div/div/div/div[1]/div[2]/div/input[2]\").click()\n",
    "\n",
    "arrival_city = driver.find_element(By.XPATH,\"/html/body/div/table/tbody/tr/td/table/tbody/tr[3]/td[1]/div[1]/div/div/form/div/div[1]/div/div/div/div[1]/div[2]/div/ul/li[@id='\"+arrival_cityID+\"']/span\").click()"
   ]
  },
  {
   "cell_type": "code",
   "execution_count": 27,
   "id": "f993a73a",
   "metadata": {},
   "outputs": [],
   "source": [
    "# //*[@id=\"app\"]/div/form/div/div[1]/div/div/div/div[2]/div[1]/span/input\n",
    "departure_date_dropdown = driver.find_element(By.XPATH,\"//*[@id='app']/div/form/div/div[1]/div/div/div/div[2]/div[1]/span/input\")\n",
    "departure_date_dropdown.clear()\n",
    "departure_date_dropdown.send_keys(departDate)\n",
    "# departure_date = driver.find_element(By.XPATH,\"//*[@id='app']/div/form/div/div[1]/div/div/div/div[2]/div[1]/span/input\").click()"
   ]
  },
  {
   "cell_type": "code",
   "execution_count": 28,
   "id": "6f8c5136",
   "metadata": {},
   "outputs": [],
   "source": [
    "arrival_date_dropdown = driver.find_element(By.XPATH,\"//*[@id='app']/div/form/div/div[1]/div/div/div/div[2]/div[2]/span/input\")\n",
    "arrival_date_dropdown.clear()\n",
    "arrival_date_dropdown.send_keys(arrivalDate)\n",
    "\n",
    "# arrival_date = driver.find_element(By.XPATH,\"//*[@id='app']/div/form/div/div[1]/div/div/div/div[2]/div[2]/span/input\").click()"
   ]
  },
  {
   "cell_type": "code",
   "execution_count": 29,
   "id": "8a939534",
   "metadata": {},
   "outputs": [],
   "source": [
    "Guests = driver.find_element(By.XPATH,\"//*[@id='app']/div/form/div/div[2]/div[1]/div\").click()\n"
   ]
  },
  {
   "cell_type": "code",
   "execution_count": 18,
   "id": "3d4925de",
   "metadata": {},
   "outputs": [],
   "source": [
    "Adults = driver.find_element(By.XPATH,\"//*[@id='app']/div/form/div/div[2]/div[1]/div[2]/div/div/div[1]/ul/li[1]/div/div/span[2]\").click()\n",
    "Infants = driver.find_element(By.XPATH,'//*[@id=\"app\"]/div/form/div/div[2]/div[1]/div[2]/div/div/div[1]/ul/li[3]/div/div/span[2]').click()\n",
    "Children = driver.find_element(By.XPATH,'//*[@id=\"app\"]/div/form/div/div[2]/div[1]/div[2]/div/div/div[1]/ul/li[2]/div/div/span[2]').click()\n"
   ]
  },
  {
   "cell_type": "code",
   "execution_count": 30,
   "id": "a4e5e987",
   "metadata": {},
   "outputs": [],
   "source": [
    "driver.find_element(By.XPATH,'//*[@id=\"app\"]/div/form/div/div[2]/div[1]/div[2]/div/div/div[2]/button').click()\n"
   ]
  },
  {
   "cell_type": "code",
   "execution_count": 32,
   "id": "0dca4bf3",
   "metadata": {},
   "outputs": [],
   "source": [
    "driver.find_element(By.XPATH,'//*[@id=\"app\"]/div/form/div/div[3]/button').click()"
   ]
  },
  {
   "cell_type": "markdown",
   "id": "e639667c",
   "metadata": {},
   "source": [
    "# SCRAPE SEARCHED DATA"
   ]
  },
  {
   "cell_type": "code",
   "execution_count": 200,
   "id": "3eb0455f",
   "metadata": {},
   "outputs": [],
   "source": [
    "# flights = driver.find_element(By.XPATH,'//*[@id=\"trip_1_date_2022_05_14\"]')"
   ]
  },
  {
   "cell_type": "code",
   "execution_count": 210,
   "id": "75be62c3",
   "metadata": {},
   "outputs": [],
   "source": [
    "# flights"
   ]
  },
  {
   "cell_type": "code",
   "execution_count": 222,
   "id": "724f3561",
   "metadata": {},
   "outputs": [],
   "source": [
    "# url= \"https://www.airblue.com/agents/bookings/Vues/flight_selection.aspx?=auto\"\n",
    "# # url = \"https://www.amazon.com/s?k=gaming+keyboard&pd_rd_r=20d76277-e558-40b8-b7ec-12b637647b9f&pd_rd_w=d4WV7&pd_rd_wg=hi17L&pf_rd_p=12129333-2117-4490-9c17-6d31baf0582a&pf_rd_r=N1AKG5HJ0CQ9FDYZE07G&ref=pd_gw_unk\"\n",
    "# page = requests.get(url)\n",
    "# print(page)"
   ]
  },
  {
   "cell_type": "code",
   "execution_count": 1,
   "id": "159c169f",
   "metadata": {},
   "outputs": [],
   "source": [
    "soup = BeautifulSoup(driver.page_source)\n",
    "lists = soup.find_all(\"div\", {\"class\":\"flight-option\"})\n",
    "# print(lists)"
   ]
  },
  {
   "cell_type": "code",
   "execution_count": 30,
   "id": "a4548c9a",
   "metadata": {},
   "outputs": [
    {
     "name": "stdout",
     "output_type": "stream",
     "text": [
      "value\n",
      "(NO BAG)\n",
      "flexi\n",
      "(20 KG BAG)\n",
      "xtra\n",
      "(2 BAGS 20KG EACH)\n",
      "PKR 33,309\n",
      "PKR 34,826\n",
      "PKR 37,354\n",
      "Depart Time: 5:55 PMFlight Number: PA-110\n",
      "Landing Time:  7:10 PM A320\n",
      "Nonstop2hr 15min \n",
      "\n"
     ]
    }
   ],
   "source": [
    "with open('FlightFares.csv', 'w', encoding='utf8', newline='') as f:\n",
    "    thewriter = writer(f)\n",
    "    header = ['Title','Price','Arrival Details','Departure Details']\n",
    "    thewriter.writerow(header)\n",
    "\n",
    "    for list in lists:\n",
    "\n",
    "        titles=driver.find_elements(By.XPATH,'//*[@id=\"trip_1\"]/div[1]/div[2]/div/ul/li')\n",
    "        for i in titles:\n",
    "            title = i.text\n",
    "            print(title)\n",
    "        prices = driver.find_elements(By.XPATH,'//div[@class=\"flight-option\"]/div[2]')\n",
    "        for i in prices:\n",
    "            price = i.text\n",
    "            print(price)\n",
    "        price = list.find('span', class_=\"price\").text.replace('\\n', '')\n",
    "#         print(listtitle)\n",
    "        departureDetails = list.find('div', class_=\"time leaving\").text\n",
    "        print(departureDetails)\n",
    "        arrivalDetails = list.find('div', class_=\"time landing\").text\n",
    "        print(arrivalDetails)\n",
    "        flightDuration= list.find('div', class_=\"flight-stops\").text\n",
    "#         flightDuration=flightDuration[:-3] + ' : ' + flightDuration[-3:]\n",
    "        print(flightDuration,'\\n')\n",
    "\n",
    "        \n",
    "        info = [title,price,departureDetails,arrivalDetails]\n",
    "        thewriter.writerow(info)"
   ]
  },
  {
   "cell_type": "code",
   "execution_count": null,
   "id": "452c569f",
   "metadata": {},
   "outputs": [],
   "source": []
  },
  {
   "cell_type": "code",
   "execution_count": null,
   "id": "3167c748",
   "metadata": {},
   "outputs": [],
   "source": []
  }
 ],
 "metadata": {
  "kernelspec": {
   "display_name": "Python 3 (ipykernel)",
   "language": "python",
   "name": "python3"
  },
  "language_info": {
   "codemirror_mode": {
    "name": "ipython",
    "version": 3
   },
   "file_extension": ".py",
   "mimetype": "text/x-python",
   "name": "python",
   "nbconvert_exporter": "python",
   "pygments_lexer": "ipython3",
   "version": "3.8.10"
  }
 },
 "nbformat": 4,
 "nbformat_minor": 5
}
