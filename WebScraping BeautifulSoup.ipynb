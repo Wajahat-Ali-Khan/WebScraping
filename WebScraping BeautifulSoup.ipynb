{
 "cells": [
  {
   "cell_type": "code",
   "execution_count": 1,
   "id": "61d30110",
   "metadata": {},
   "outputs": [],
   "source": [
    "from bs4 import BeautifulSoup\n",
    "import requests\n",
    "from csv import writer\n"
   ]
  },
  {
   "cell_type": "code",
   "execution_count": 22,
   "id": "9ff55a14",
   "metadata": {},
   "outputs": [
    {
     "name": "stdout",
     "output_type": "stream",
     "text": [
      "<Response [200]>\n"
     ]
    }
   ],
   "source": [
    "url= \"https://www.ebay.com/sch/i.html?_from=R40&_trksid=p2334524.m570.l1313&_nkw=apple&_sacat=0&LH_TitleDesc=0&_odkw=apple&_osacat=0\"\n",
    "# url = \"https://www.amazon.com/s?k=gaming+keyboard&pd_rd_r=20d76277-e558-40b8-b7ec-12b637647b9f&pd_rd_w=d4WV7&pd_rd_wg=hi17L&pf_rd_p=12129333-2117-4490-9c17-6d31baf0582a&pf_rd_r=N1AKG5HJ0CQ9FDYZE07G&ref=pd_gw_unk\"\n",
    "page = requests.get(url)\n",
    "print(page)"
   ]
  },
  {
   "cell_type": "code",
   "execution_count": 33,
   "id": "3f6c9be0",
   "metadata": {},
   "outputs": [],
   "source": [
    "soup = BeautifulSoup(page.content, 'html.parser')\n",
    "lists = soup.find_all(\"div\", {\"class\":\"s-item__wrapper clearfix\"})\n",
    "# print(lists)"
   ]
  },
  {
   "cell_type": "code",
   "execution_count": 32,
   "id": "3e29ce93",
   "metadata": {},
   "outputs": [],
   "source": [
    "with open('AppleAmazon.csv', 'w', encoding='utf8', newline='') as f:\n",
    "    thewriter = writer(f)\n",
    "    header = ['Title', 'Price','Condition','Shipping','Return','No of Sold']\n",
    "    thewriter.writerow(header)\n",
    "\n",
    "    for list in lists:\n",
    "        title = list.find('a', class_=\"s-item__link\").text.replace('\\n', '')\n",
    "        sold = list.find('span', class_=\"BOLD\")\n",
    "        if sold is not None:\n",
    "            sold = sold.text.replace('\\n', '')\n",
    "        else:\n",
    "            sold = 0\n",
    "        price = list.find('span', class_=\"s-item__price\").text.replace('\\n', '')\n",
    "        shipping = list.find('span', class_=\"s-item__shipping s-item__logisticsCost\")\n",
    "        if shipping is not None:\n",
    "            shipping = shipping.text.replace('\\n', '')\n",
    "        else:\n",
    "            shipping = 'No Shipping Specified'\n",
    "        return_status = list.find('span', class_=\"s-item__free-returns s-item__freeReturnsNoFee\")\n",
    "        if return_status is not None:\n",
    "            return_status = return_status.text.replace('\\n', '')\n",
    "        else:\n",
    "            return_status = 'No Return Specified'\n",
    "        condition = list.find('span', class_=\"SECONDARY_INFO\").text.replace('\\n', '')\n",
    "        \n",
    "        info = [title,price,condition,shipping,return_status,sold]\n",
    "        thewriter.writerow(info)"
   ]
  },
  {
   "cell_type": "code",
   "execution_count": null,
   "id": "da8d018a",
   "metadata": {},
   "outputs": [],
   "source": []
  }
 ],
 "metadata": {
  "kernelspec": {
   "display_name": "Python 3 (ipykernel)",
   "language": "python",
   "name": "python3"
  },
  "language_info": {
   "codemirror_mode": {
    "name": "ipython",
    "version": 3
   },
   "file_extension": ".py",
   "mimetype": "text/x-python",
   "name": "python",
   "nbconvert_exporter": "python",
   "pygments_lexer": "ipython3",
   "version": "3.8.10"
  }
 },
 "nbformat": 4,
 "nbformat_minor": 5
}
