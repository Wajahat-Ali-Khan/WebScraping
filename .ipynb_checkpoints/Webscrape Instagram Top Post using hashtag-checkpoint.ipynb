{
 "cells": [
  {
   "cell_type": "code",
<<<<<<< HEAD
   "execution_count": 1,
=======
   "execution_count": 3,
>>>>>>> 78aab29867bdcdeffe804e02406decbebe46e716
   "id": "cfd9f2c5",
   "metadata": {},
   "outputs": [],
   "source": [
    "from selenium import webdriver\n",
    "from selenium.webdriver.common.keys import Keys\n",
    "from selenium.webdriver.support import expected_conditions as EC\n",
    "from selenium.webdriver.common.by import By\n",
    "from selenium.webdriver.support.wait import WebDriverWait\n",
    "import pandas as pd\n",
    "import time"
   ]
  },
  {
   "cell_type": "code",
<<<<<<< HEAD
   "execution_count": 2,
=======
   "execution_count": 4,
>>>>>>> 78aab29867bdcdeffe804e02406decbebe46e716
   "id": "6171f567",
   "metadata": {},
   "outputs": [
    {
     "name": "stderr",
     "output_type": "stream",
     "text": [
<<<<<<< HEAD
      "C:\\Users\\CZ3~1\\AppData\\Local\\Temp/ipykernel_6240/3036157875.py:1: DeprecationWarning: executable_path has been deprecated, please pass in a Service object\n",
=======
      "C:\\Users\\CZ3~1\\AppData\\Local\\Temp/ipykernel_9240/3036157875.py:1: DeprecationWarning: executable_path has been deprecated, please pass in a Service object\n",
>>>>>>> 78aab29867bdcdeffe804e02406decbebe46e716
      "  driver = webdriver.Chrome(executable_path=r'C:\\Users\\CZ 3\\Downloads\\chromedriver_win32\\chromedriver.exe')\n"
     ]
    }
   ],
   "source": [
    "driver = webdriver.Chrome(executable_path=r'C:\\Users\\CZ 3\\Downloads\\chromedriver_win32\\chromedriver.exe')\n",
    "driver.get(\"https://www.instagram.com\")"
   ]
  },
  {
   "cell_type": "code",
<<<<<<< HEAD
   "execution_count": 3,
=======
   "execution_count": 5,
>>>>>>> 78aab29867bdcdeffe804e02406decbebe46e716
   "id": "a1305ee9",
   "metadata": {},
   "outputs": [],
   "source": [
    "username = WebDriverWait(driver,10).until(EC.element_to_be_clickable((By.CSS_SELECTOR,\"input[name='username']\")))\n",
    "password = WebDriverWait(driver,10).until(EC.element_to_be_clickable((By.CSS_SELECTOR,\"input[name='password']\")))"
   ]
  },
  {
   "cell_type": "code",
<<<<<<< HEAD
   "execution_count": null,
   "id": "bac60223",
   "metadata": {},
   "outputs": [],
=======
   "execution_count": 6,
   "id": "bbd5fa9a",
   "metadata": {},
   "outputs": [
    {
     "name": "stdout",
     "output_type": "stream",
     "text": [
      "Enter the username: Instagram Username\n",
      "Enter the password: Instagram Password\n"
     ]
    }
   ],
>>>>>>> 78aab29867bdcdeffe804e02406decbebe46e716
   "source": [
    "username.clear()\n",
    "password.clear()\n",
    "USERNAME = input(\"Enter the username: \")\n",
    "PASSWORD = input(\"Enter the password: \")"
   ]
  },
  {
   "cell_type": "code",
<<<<<<< HEAD
   "execution_count": 5,
=======
   "execution_count": 7,
>>>>>>> 78aab29867bdcdeffe804e02406decbebe46e716
   "id": "dc279969",
   "metadata": {},
   "outputs": [],
   "source": [
    "username.send_keys(USERNAME)\n",
    "password.send_keys(PASSWORD)"
   ]
  },
  {
   "cell_type": "code",
<<<<<<< HEAD
   "execution_count": 6,
   "id": "c1b1534f",
   "metadata": {},
   "outputs": [
    {
     "name": "stdout",
     "output_type": "stream",
     "text": [
      "None\n"
     ]
    }
   ],
=======
   "execution_count": 10,
   "id": "c1b1534f",
   "metadata": {},
   "outputs": [],
>>>>>>> 78aab29867bdcdeffe804e02406decbebe46e716
   "source": [
    "log_in = WebDriverWait(driver,10).until(EC.element_to_be_clickable((By.CSS_SELECTOR,\"button[type='submit']\"))).click()\n",
    "print(log_in)\n",
    "# if log_in is None:\n",
    "#     driver.refresh()\n",
    "#     username = WebDriverWait(driver,10).until(EC.element_to_be_clickable((By.CSS_SELECTOR,\"input[name='username']\")))\n",
    "#     password = WebDriverWait(driver,10).until(EC.element_to_be_clickable((By.CSS_SELECTOR,\"input[name='password']\")))\n",
    "\n",
    "\n",
    "# driver.delete_all_cookies()"
   ]
  },
  {
   "cell_type": "code",
<<<<<<< HEAD
   "execution_count": 7,
=======
   "execution_count": 9,
>>>>>>> 78aab29867bdcdeffe804e02406decbebe46e716
   "id": "69ac1c91",
   "metadata": {},
   "outputs": [],
   "source": [
    "not_now = WebDriverWait(driver,10).until(EC.element_to_be_clickable((By.XPATH,\"//button[contains(text(),'Not Now')]\"))).click()\n",
    "not_now2 = WebDriverWait(driver,10).until(EC.element_to_be_clickable((By.XPATH,\"//button[contains(text(),'Not Now')]\"))).click()"
   ]
  },
  {
   "cell_type": "code",
<<<<<<< HEAD
   "execution_count": 37,
   "id": "93f521da",
   "metadata": {},
   "outputs": [
    {
     "name": "stdout",
     "output_type": "stream",
     "text": [
      "Enter Hashtag name:Cars\n"
     ]
    }
   ],
=======
   "execution_count": 9,
   "id": "93f521da",
   "metadata": {},
   "outputs": [],
>>>>>>> 78aab29867bdcdeffe804e02406decbebe46e716
   "source": [
    "query = input(\"Enter Hashtag name:\")\n",
    "page = driver.get(\"https://www.instagram.com/explore/tags/\" + query)"
   ]
  },
  {
   "cell_type": "code",
<<<<<<< HEAD
   "execution_count": 38,
   "id": "2ca1a2b8",
   "metadata": {},
   "outputs": [],
   "source": [
    "# print(page.page_source)"
   ]
  },
  {
   "cell_type": "code",
   "execution_count": 39,
=======
   "execution_count": 11,
>>>>>>> 78aab29867bdcdeffe804e02406decbebe46e716
   "id": "e83684bf",
   "metadata": {},
   "outputs": [],
   "source": [
    "driver.execute_script(\"window.scrollBy(0,1000000)\")\n",
    "time.sleep(5)\n",
    "driver.execute_script(\"window.scrollBy(0,1000000)\")\n",
    "time.sleep(5)\n",
    "driver.execute_script(\"window.scrollBy(0,1000000)\")\n",
    "time.sleep(5)"
   ]
  },
  {
   "cell_type": "code",
<<<<<<< HEAD
   "execution_count": 40,
=======
   "execution_count": 12,
>>>>>>> 78aab29867bdcdeffe804e02406decbebe46e716
   "id": "6ae4c871",
   "metadata": {},
   "outputs": [
    {
     "name": "stderr",
     "output_type": "stream",
     "text": [
<<<<<<< HEAD
      "C:\\Users\\CZ3~1\\AppData\\Local\\Temp/ipykernel_6240/2147005835.py:1: DeprecationWarning: find_elements_by_tag_name is deprecated. Please use find_elements(by=By.TAG_NAME, value=name) instead\n",
=======
      "C:\\Users\\CZ3~1\\AppData\\Local\\Temp/ipykernel_5484/2147005835.py:1: DeprecationWarning: find_elements_by_tag_name is deprecated. Please use find_elements(by=By.TAG_NAME, value=name) instead\n",
>>>>>>> 78aab29867bdcdeffe804e02406decbebe46e716
      "  links = driver.find_elements_by_tag_name('a')\n"
     ]
    }
   ],
   "source": [
    "links = driver.find_elements_by_tag_name('a')\n",
    "links = [link.get_attribute('href') for link in links]"
   ]
  },
  {
   "cell_type": "code",
<<<<<<< HEAD
   "execution_count": null,
   "id": "715a60c4",
   "metadata": {},
   "outputs": [],
   "source": [
    "# TO GET CSV OF POST LINKS RELATED TO SEARCH KEYWORD\n",
    "\n",
=======
   "execution_count": 8,
   "id": "fa55ff6e",
   "metadata": {},
   "outputs": [],
   "source": [
>>>>>>> 78aab29867bdcdeffe804e02406decbebe46e716
    "df = pd.DataFrame(links,columns=[\"InstagramPostLink Relate to\" + query])\n",
    "print(df)\n",
    "df.to_csv(query + 'Data.csv')"
   ]
  },
  {
   "cell_type": "code",
<<<<<<< HEAD
   "execution_count": 41,
   "id": "1ade0495",
   "metadata": {},
   "outputs": [],
   "source": [
    "\n",
    "def Hashtag_extractor():\n",
    "    global hashtag_list \n",
    "    hashtag_list = []\n",
    "    for link in links:\n",
    "        page = driver.get(link)\n",
    "        driver.implicitly_wait(5)\n",
    "        try:\n",
    "            section = WebDriverWait(driver, 10).until(EC.presence_of_element_located((By.CLASS_NAME, \"EtaWk \"))\n",
    "            )\n",
    "        #     print(section.text)\n",
    "            hashtag_section = section.find_elements(By.XPATH,('//*[@id=\"react-root\"]/section/main/div/div[1]/article/div/div[2]/div/div[2]/div[1]/ul/div/li/div/div/div[2]'))\n",
    "            try:\n",
    "                for hashtag in hashtag_section:\n",
    "                    hashtags = hashtag.find_elements(By.XPATH,('//*[@id=\"react-root\"]/section/main/div/div[1]/article/div/div[2]/div/div[2]/div[1]/ul/div/li/div/div/div[2]/div[1]/span/a'))\n",
    "        #             print(hashtags)\n",
    "\n",
    "                    for h in hashtags:\n",
    "                        \n",
    "                        hashtag = h.text\n",
    "                        print(hashtag)\n",
    "#                         data = pd.DataFrame()\n",
    "                        hashtag_list.append(hashtag)\n",
    "                    print(hashtag_list)\n",
    "            except:\n",
    "                print(\"No HashTag\")\n",
    "        except:\n",
    "            print(\"Page Not Found\")"
   ]
  },
  {
   "cell_type": "code",
   "execution_count": null,
   "id": "e4d49c30",
   "metadata": {},
   "outputs": [],
   "source": [
    "Hashtag_extractor()"
   ]
  },
  {
   "cell_type": "code",
   "execution_count": 47,
   "id": "a7fe312c",
   "metadata": {},
   "outputs": [],
   "source": [
    "# TO EXTRACT THE HASHTAGS OF EACH POST AND SAVE IT IN CSV FILE\n",
    "data = pd.DataFrame(hashtag_list, columns=['Hashtags'])\n",
    "# print(data)\n",
    "data.to_csv(query+'HashtagList.csv')"
   ]
=======
   "execution_count": null,
   "id": "1ade0495",
   "metadata": {},
   "outputs": [],
   "source": []
>>>>>>> 78aab29867bdcdeffe804e02406decbebe46e716
  }
 ],
 "metadata": {
  "kernelspec": {
   "display_name": "Python 3 (ipykernel)",
   "language": "python",
   "name": "python3"
  },
  "language_info": {
   "codemirror_mode": {
    "name": "ipython",
    "version": 3
   },
   "file_extension": ".py",
   "mimetype": "text/x-python",
   "name": "python",
   "nbconvert_exporter": "python",
   "pygments_lexer": "ipython3",
   "version": "3.8.5"
  }
 },
 "nbformat": 4,
 "nbformat_minor": 5
}
