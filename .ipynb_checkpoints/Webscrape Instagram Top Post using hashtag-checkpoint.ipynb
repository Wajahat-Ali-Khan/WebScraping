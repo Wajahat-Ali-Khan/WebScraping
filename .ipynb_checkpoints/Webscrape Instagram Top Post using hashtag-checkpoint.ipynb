{
 "cells": [
  {
   "cell_type": "code",
   "execution_count": 1,
   "id": "4209c44e",
   "metadata": {},
   "outputs": [],
   "source": [
    "from selenium import webdriver\n",
    "from selenium.webdriver.common.keys import Keys\n",
    "from selenium.webdriver.support import expected_conditions as EC\n",
    "from selenium.webdriver.common.by import By\n",
    "from selenium.webdriver.support.wait import WebDriverWait\n",
    "import pandas as pd\n",
    "import time"
   ]
  },
  {
   "cell_type": "code",
   "execution_count": 2,
   "id": "bfb9b77c",
   "metadata": {},
   "outputs": [
    {
     "name": "stderr",
     "output_type": "stream",
     "text": [
      "/tmp/ipykernel_18455/611700908.py:1: DeprecationWarning: executable_path has been deprecated, please pass in a Service object\n",
      "  driver = webdriver.Chrome(executable_path='/home/const/Downloads/chromedriver_linux64/chromedriver')\n"
     ]
    }
   ],
   "source": [
    "driver = webdriver.Chrome(executable_path='/home/const/Downloads/chromedriver_linux64/chromedriver')\n",
    "driver.get(\"https://www.instagram.com\")"
   ]
  },
  {
   "cell_type": "code",
   "execution_count": 3,
   "id": "00707f86",
   "metadata": {},
   "outputs": [],
   "source": [
    "username = WebDriverWait(driver,10).until(EC.element_to_be_clickable((By.CSS_SELECTOR,\"input[name='username']\")))\n",
    "password = WebDriverWait(driver,10).until(EC.element_to_be_clickable((By.CSS_SELECTOR,\"input[name='password']\")))"
   ]
  },
  {
   "cell_type": "code",
   "execution_count": 8,
   "id": "867f4fa8",
   "metadata": {},
   "outputs": [
    {
     "name": "stdout",
     "output_type": "stream",
     "text": [
      "Enter the username: invdwarrior2485\n",
      "Enter the password: Wajahat@460\n"
     ]
    }
   ],
   "source": [
    "username.clear()\n",
    "password.clear()\n",
    "USERNAME = input(\"Enter the username: \")\n",
    "PASSWORD = input(\"Enter the password: \")"
   ]
  },
  {
   "cell_type": "code",
   "execution_count": 9,
   "id": "3942f275",
   "metadata": {},
   "outputs": [],
   "source": [
    "username.send_keys(USERNAME)\n",
    "password.send_keys(PASSWORD)"
   ]
  },
  {
   "cell_type": "code",
   "execution_count": 10,
   "id": "33951884",
   "metadata": {},
   "outputs": [
    {
     "name": "stdout",
     "output_type": "stream",
     "text": [
      "None\n"
     ]
    }
   ],
   "source": [
    "log_in = WebDriverWait(driver,10).until(EC.element_to_be_clickable((By.CSS_SELECTOR,\"button[type='submit']\"))).click()\n",
    "print(log_in)\n",
    "# if log_in is None:\n",
    "#     driver.refresh()\n",
    "#     username = WebDriverWait(driver,10).until(EC.element_to_be_clickable((By.CSS_SELECTOR,\"input[name='username']\")))\n",
    "#     password = WebDriverWait(driver,10).until(EC.element_to_be_clickable((By.CSS_SELECTOR,\"input[name='password']\")))\n",
    "\n",
    "\n",
    "# driver.delete_all_cookies()"
   ]
  },
  {
   "cell_type": "code",
   "execution_count": 33,
   "id": "4187a669",
   "metadata": {},
   "outputs": [],
   "source": [
    "not_now = WebDriverWait(driver,10).until(EC.element_to_be_clickable((By.XPATH,\"//button[contains(text(),'Not Now')]\"))).click()\n",
    "not_now2 = WebDriverWait(driver,10).until(EC.element_to_be_clickable((By.XPATH,\"//button[contains(text(),'Not Now')]\"))).click()"
   ]
  },
  {
   "cell_type": "code",
   "execution_count": 11,
   "id": "9e230c2a",
   "metadata": {},
   "outputs": [
    {
     "name": "stdout",
     "output_type": "stream",
     "text": [
      "Enter Hashtag namecricket\n"
     ]
    }
   ],
   "source": [
    "query = input(\"Enter Hashtag name\")\n",
    "page = driver.get(\"https://www.instagram.com/explore/tags/\" + query)"
   ]
  },
  {
   "cell_type": "code",
   "execution_count": 12,
   "id": "5bf7e9ea",
   "metadata": {},
   "outputs": [],
   "source": [
    "driver.execute_script(\"window.scrollBy(0,1000000)\")\n",
    "time.sleep(5)\n",
    "driver.execute_script(\"window.scrollBy(0,1000000)\")\n",
    "time.sleep(5)\n",
    "driver.execute_script(\"window.scrollBy(0,1000000)\")\n",
    "time.sleep(5)"
   ]
  },
  {
   "cell_type": "code",
   "execution_count": 13,
   "id": "ffe8e82b",
   "metadata": {},
   "outputs": [
    {
     "name": "stderr",
     "output_type": "stream",
     "text": [
      "/tmp/ipykernel_18455/2147005835.py:1: DeprecationWarning: find_elements_by_tag_name is deprecated. Please use find_elements(by=By.TAG_NAME, value=name) instead\n",
      "  links = driver.find_elements_by_tag_name('a')\n"
     ]
    }
   ],
   "source": [
    "links = driver.find_elements_by_tag_name('a')\n",
    "links = [link.get_attribute('href') for link in links]"
   ]
  },
  {
   "cell_type": "code",
   "execution_count": 14,
   "id": "9f3acb4b",
   "metadata": {},
   "outputs": [
    {
     "name": "stdout",
     "output_type": "stream",
     "text": [
      "                                InstagramPostLink\n",
      "0        https://www.instagram.com/p/Cc7d1vIsHkp/\n",
      "1        https://www.instagram.com/p/Cc7dWmvvtoh/\n",
      "2        https://www.instagram.com/p/Cc7qVOOvnlO/\n",
      "3        https://www.instagram.com/p/Cc68YoSvRUT/\n",
      "4        https://www.instagram.com/p/Cc50-gHtZwW/\n",
      "..                                            ...\n",
      "75         https://www.instagram.com/legal/terms/\n",
      "76  https://www.instagram.com/directory/profiles/\n",
      "77  https://www.instagram.com/directory/hashtags/\n",
      "78   https://www.instagram.com/explore/locations/\n",
      "79            https://www.instagram.com/web/lite/\n",
      "\n",
      "[80 rows x 1 columns]\n"
     ]
    }
   ],
   "source": [
    "df = pd.DataFrame(links,columns=[\"InstagramPostLink\"])\n",
    "print(df)\n",
    "df.to_csv('uniqlojapan.csv')"
   ]
  },
  {
   "cell_type": "code",
   "execution_count": null,
   "id": "7ccfbeed",
   "metadata": {},
   "outputs": [],
   "source": []
  }
 ],
 "metadata": {
  "kernelspec": {
   "display_name": "Python 3 (ipykernel)",
   "language": "python",
   "name": "python3"
  },
  "language_info": {
   "codemirror_mode": {
    "name": "ipython",
    "version": 3
   },
   "file_extension": ".py",
   "mimetype": "text/x-python",
   "name": "python",
   "nbconvert_exporter": "python",
   "pygments_lexer": "ipython3",
   "version": "3.8.10"
  }
 },
 "nbformat": 4,
 "nbformat_minor": 5
}
