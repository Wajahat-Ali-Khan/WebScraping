{
 "cells": [
  {
   "cell_type": "code",
   "execution_count": 3,
   "id": "cfd9f2c5",
   "metadata": {},
   "outputs": [],
   "source": [
    "from selenium import webdriver\n",
    "from selenium.webdriver.common.keys import Keys\n",
    "from selenium.webdriver.support import expected_conditions as EC\n",
    "from selenium.webdriver.common.by import By\n",
    "from selenium.webdriver.support.wait import WebDriverWait\n",
    "import pandas as pd\n",
    "import time"
   ]
  },
  {
   "cell_type": "code",
   "execution_count": 4,
   "id": "6171f567",
   "metadata": {},
   "outputs": [
    {
     "name": "stderr",
     "output_type": "stream",
     "text": [
      "C:\\Users\\CZ3~1\\AppData\\Local\\Temp/ipykernel_9240/3036157875.py:1: DeprecationWarning: executable_path has been deprecated, please pass in a Service object\n",
      "  driver = webdriver.Chrome(executable_path=r'C:\\Users\\CZ 3\\Downloads\\chromedriver_win32\\chromedriver.exe')\n"
     ]
    }
   ],
   "source": [
    "driver = webdriver.Chrome(executable_path=r'C:\\Users\\CZ 3\\Downloads\\chromedriver_win32\\chromedriver.exe')\n",
    "driver.get(\"https://www.instagram.com\")"
   ]
  },
  {
   "cell_type": "code",
   "execution_count": 5,
   "id": "a1305ee9",
   "metadata": {},
   "outputs": [],
   "source": [
    "username = WebDriverWait(driver,10).until(EC.element_to_be_clickable((By.CSS_SELECTOR,\"input[name='username']\")))\n",
    "password = WebDriverWait(driver,10).until(EC.element_to_be_clickable((By.CSS_SELECTOR,\"input[name='password']\")))"
   ]
  },
  {
   "cell_type": "code",
   "execution_count": 6,
   "id": "bbd5fa9a",
   "metadata": {},
   "outputs": [
    {
     "name": "stdout",
     "output_type": "stream",
     "text": [
      "Enter the username: Instagram Username\n",
      "Enter the password: Instagram Password\n"
     ]
    }
   ],
   "source": [
    "username.clear()\n",
    "password.clear()\n",
    "USERNAME = input(\"Enter the username: \")\n",
    "PASSWORD = input(\"Enter the password: \")"
   ]
  },
  {
   "cell_type": "code",
   "execution_count": 7,
   "id": "dc279969",
   "metadata": {},
   "outputs": [],
   "source": [
    "username.send_keys(USERNAME)\n",
    "password.send_keys(PASSWORD)"
   ]
  },
  {
   "cell_type": "code",
   "execution_count": 10,
   "id": "c1b1534f",
   "metadata": {},
   "outputs": [],
   "source": [
    "log_in = WebDriverWait(driver,10).until(EC.element_to_be_clickable((By.CSS_SELECTOR,\"button[type='submit']\"))).click()\n",
    "print(log_in)\n",
    "# if log_in is None:\n",
    "#     driver.refresh()\n",
    "#     username = WebDriverWait(driver,10).until(EC.element_to_be_clickable((By.CSS_SELECTOR,\"input[name='username']\")))\n",
    "#     password = WebDriverWait(driver,10).until(EC.element_to_be_clickable((By.CSS_SELECTOR,\"input[name='password']\")))\n",
    "\n",
    "\n",
    "# driver.delete_all_cookies()"
   ]
  },
  {
   "cell_type": "code",
   "execution_count": 9,
   "id": "69ac1c91",
   "metadata": {},
   "outputs": [],
   "source": [
    "not_now = WebDriverWait(driver,10).until(EC.element_to_be_clickable((By.XPATH,\"//button[contains(text(),'Not Now')]\"))).click()\n",
    "not_now2 = WebDriverWait(driver,10).until(EC.element_to_be_clickable((By.XPATH,\"//button[contains(text(),'Not Now')]\"))).click()"
   ]
  },
  {
   "cell_type": "code",
   "execution_count": 9,
   "id": "93f521da",
   "metadata": {},
   "outputs": [],
   "source": [
    "query = input(\"Enter Hashtag name:\")\n",
    "page = driver.get(\"https://www.instagram.com/explore/tags/\" + query)"
   ]
  },
  {
   "cell_type": "code",
   "execution_count": 11,
   "id": "e83684bf",
   "metadata": {},
   "outputs": [],
   "source": [
    "driver.execute_script(\"window.scrollBy(0,1000000)\")\n",
    "time.sleep(5)\n",
    "driver.execute_script(\"window.scrollBy(0,1000000)\")\n",
    "time.sleep(5)\n",
    "driver.execute_script(\"window.scrollBy(0,1000000)\")\n",
    "time.sleep(5)"
   ]
  },
  {
   "cell_type": "code",
   "execution_count": 12,
   "id": "6ae4c871",
   "metadata": {},
   "outputs": [
    {
     "name": "stderr",
     "output_type": "stream",
     "text": [
      "C:\\Users\\CZ3~1\\AppData\\Local\\Temp/ipykernel_5484/2147005835.py:1: DeprecationWarning: find_elements_by_tag_name is deprecated. Please use find_elements(by=By.TAG_NAME, value=name) instead\n",
      "  links = driver.find_elements_by_tag_name('a')\n"
     ]
    }
   ],
   "source": [
    "links = driver.find_elements_by_tag_name('a')\n",
    "links = [link.get_attribute('href') for link in links]"
   ]
  },
  {
   "cell_type": "code",
   "execution_count": 8,
   "id": "fa55ff6e",
   "metadata": {},
   "outputs": [],
   "source": [
    "df = pd.DataFrame(links,columns=[\"InstagramPostLink Relate to\" + query])\n",
    "print(df)\n",
    "df.to_csv(query + 'Data.csv')"
   ]
  },
  {
   "cell_type": "code",
   "execution_count": null,
   "id": "1ade0495",
   "metadata": {},
   "outputs": [],
   "source": []
  }
 ],
 "metadata": {
  "kernelspec": {
   "display_name": "Python 3 (ipykernel)",
   "language": "python",
   "name": "python3"
  },
  "language_info": {
   "codemirror_mode": {
    "name": "ipython",
    "version": 3
   },
   "file_extension": ".py",
   "mimetype": "text/x-python",
   "name": "python",
   "nbconvert_exporter": "python",
   "pygments_lexer": "ipython3",
   "version": "3.8.5"
  }
 },
 "nbformat": 4,
 "nbformat_minor": 5
}
