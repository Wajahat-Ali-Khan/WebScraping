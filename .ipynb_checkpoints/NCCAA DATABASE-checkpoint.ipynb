{
 "cells": [
  {
   "cell_type": "code",
   "execution_count": 1,
   "id": "d356525a",
   "metadata": {},
   "outputs": [],
   "source": [
    "from selenium import webdriver\n",
    "from selenium.webdriver.common.keys import Keys\n",
    "from selenium.webdriver.support import expected_conditions as EC\n",
    "from selenium.webdriver.common.by import By\n",
    "from selenium.webdriver.support.wait import WebDriverWait\n",
    "import pandas as pd\n",
    "import time\n",
    "from bs4 import BeautifulSoup\n",
    "import requests\n",
    "from csv import writer\n",
    "import urllib"
   ]
  },
  {
   "cell_type": "code",
   "execution_count": 3,
   "id": "fd510f61",
   "metadata": {},
   "outputs": [
    {
     "name": "stderr",
     "output_type": "stream",
     "text": [
      "/tmp/ipykernel_4191/3284312792.py:1: DeprecationWarning: executable_path has been deprecated, please pass in a Service object\n",
      "  driver = webdriver.Chrome(executable_path='/home/const/Downloads/chromedriver_linux64/chromedriver')\n"
     ]
    }
   ],
   "source": [
    "driver = webdriver.Chrome(executable_path='/home/const/Downloads/chromedriver_linux64/chromedriver')\n",
    "driver.get(\"https://thenccaa.org/sports/2017/6/14/Member_Schools_17-18.aspx\")\n",
    "driver.implicitly_wait(0.5)\n",
    "#maximize browser\n",
    "driver.maximize_window()"
   ]
  },
  {
   "cell_type": "code",
   "execution_count": 4,
   "id": "cb8cba66",
   "metadata": {},
   "outputs": [
    {
     "name": "stdout",
     "output_type": "stream",
     "text": [
      "<selenium.webdriver.remote.webelement.WebElement (session=\"a54a839d61d52c147c2dacc169b17aaf\", element=\"3aae4ba0-83f8-42a0-93e2-90f66697cea9\")>\n"
     ]
    },
    {
     "name": "stderr",
     "output_type": "stream",
     "text": [
      "/tmp/ipykernel_4191/2377576154.py:1: DeprecationWarning: find_element_by_tag_name is deprecated. Please use find_element(by=By.TAG_NAME, value=name) instead\n",
      "  table= driver.find_element_by_tag_name('table')\n"
     ]
    }
   ],
   "source": [
    "table= driver.find_element_by_tag_name('table')\n",
    "print(table)"
   ]
  },
  {
   "cell_type": "code",
   "execution_count": 5,
   "id": "8bb9f101",
   "metadata": {},
   "outputs": [
    {
     "name": "stderr",
     "output_type": "stream",
     "text": [
      "/home/const/.local/lib/python3.8/site-packages/selenium/webdriver/remote/webelement.py:359: UserWarning: find_elements_by_tag_name is deprecated. Please use find_elements(by=By.TAG_NAME, value=name) instead\n",
      "  warnings.warn(\"find_elements_by_tag_name is deprecated. Please use find_elements(by=By.TAG_NAME, value=name) instead\")\n"
     ]
    }
   ],
   "source": [
    "# for i in lists:\n",
    "#     lists.text()\n",
    "links = table.find_elements_by_tag_name('a')\n",
    "links = [link.get_attribute('href') for link in links]"
   ]
  },
  {
   "cell_type": "code",
   "execution_count": 9,
   "id": "730c1477",
   "metadata": {},
   "outputs": [
    {
     "name": "stderr",
     "output_type": "stream",
     "text": [
      "/tmp/ipykernel_4191/1252067181.py:21: DeprecationWarning: find_element_by_xpath is deprecated. Please use find_element(by=By.XPATH, value=xpath) instead\n",
      "  img = driver.find_element_by_xpath('/html/body/form/main/div/article/div/table[2]/tbody/tr[1]/td[2]').find_element(By.TAG_NAME,('img')).get_attribute('src')\n"
     ]
    },
    {
     "name": "stdout",
     "output_type": "stream",
     "text": [
      "ALICE LLOYD COLLEGE 100 Purpose RoadPippa Passes, KY 41844-8884(606) 368-6036 https://thenccaa.org/common/controls/image_handler.aspx?thumb_id=14&image_path=/images/2018/2/20/logo_website.png\n",
      "APPALACHIAN BIBLE COLLEGE 161 College DriveMount Hope, WV 25880-9554(304) 877-6428 https://thenccaa.org/common/controls/image_handler.aspx?thumb_id=0&image_path=/images/2020/9/10/ABC_Athletics_LOGO_RGB.png\n",
      "ARLINGTON BAPTIST UNIVERSITY 3001 West Division StreetArlington, TX 76012-3425(817) 461-8741 https://thenccaa.org/common/controls/image_handler.aspx?thumb_id=13&image_path=/images/2017/6/29/AB_cropped.png\n",
      "ASBURY UNIVERSITY 1 Macklem DriveWilmore, KY 40390(859) 858-3511 https://thenccaa.org/common/controls/image_handler.aspx?thumb_id=0&image_path=/images/2021/6/23/AU_adjusted_PNG.png\n",
      "None Object\n",
      "None Object\n",
      "BAPTIST BIBLE COLLEGE 628 East Kearney StreetSpringfield, MO 65803-3426(417) 268-6000 https://thenccaa.org/common/controls/image_handler.aspx?thumb_id=0&image_path=/images/2021/6/23/Patriot_Head.png\n",
      "BARCLAY COLLEGE 607 North Kingman StreetHaviland, KS 67059-9558(620) 862-5252 https://thenccaa.org/common/controls/image_handler.aspx?thumb_id=15&image_path=/images/2016/5/31/Barclay12.jpg\n",
      "BETHEL UNIVERSITY 1001 Bethel CircleMishawaka, IN 46545-2232(574) 807-7000 https://thenccaa.org/common/controls/image_handler.aspx?thumb_id=0&image_path=/images/2019/5/10/BU_Primary_FC.png\n",
      "BETHESDA UNIVERSITY 730 North Euclid StreetAnaheim, CA 92801-4115(714) 517-1945 https://thenccaa.org/common/controls/image_handler.aspx?thumb_id=0&image_path=/images/2021/7/1/IMG_7083.PNG\n",
      "BOB JONES UNIVERSITY 1700 Wade Hampton BoulevardGreenville, SC 29614-1000(864) 770-1330 https://thenccaa.org/common/controls/image_handler.aspx?thumb_id=15&image_path=/images/2016/6/1/BJU_Bruins_logo_reg_5x5.jpg\n",
      "BOYCE COLLEGE 2825 Lexington RoadLouisville, KY 40280-0001(502) 897-4720 https://thenccaa.org/common/controls/image_handler.aspx?thumb_id=15&image_path=/images/2017/6/30/Boyce_Bulldog_only_4c.jpg\n",
      "None Object\n",
      "None Object\n",
      "CAIRN UNIVERSITY 200 Manor AvenueLanghorne, PA 19047-2942(215) 702-4235 https://thenccaa.org/common/controls/image_handler.aspx?thumb_id=0&image_path=/images/2016/6/1/CairnHighlander_logo_2016.jpg\n",
      "CALVARY UNIVERSITY 15800 Calvary RoadKansas City, MO 64147(816) 425-6156 https://thenccaa.org/common/controls/image_handler.aspx?thumb_id=15&image_path=/images/2017/7/7/CUMain_adjusted_.png\n",
      "CAMPBELLSVILLE UNIVERSITY 1 University DriveCampbellsville, KY 42718-2799(270) 789-5000 https://thenccaa.org/common/controls/image_handler.aspx?thumb_id=12&image_path=/images/2016/6/1/Campbellsville_Univ_tiger_4c_2_.jpg\n",
      "CAMPBELLSVILLE UNIVERSITY HARRODSBURG 1150 Danville RoadHarrodsburg, KY 40330(859) 605-1389 https://thenccaa.org/common/controls/image_handler.aspx?thumb_id=0&image_path=/images/2019/9/12/Campbellsville_University_Harrodsburg.png\n",
      "CAROLINA UNIVERSITY 420 South Broad StreetWinston Salem, NC 27101-5025(336) 725-8344 https://thenccaa.org/common/controls/image_handler.aspx?thumb_id=0&image_path=/images/2020/8/27/Carolina_University_Bruins_Head.png\n",
      "CARVER COLLEGE 3870 Cascade Road SWAtlanta, GA 30331-2184(404) 527-4520 https://thenccaa.org/common/controls/image_handler.aspx?thumb_id=14&image_path=/images/2016/6/1/Carver_Mascot.png\n",
      "CEDARVILLE UNIVERSITY 251 North Main St.Cedarville, OH 45314-8501(937) 766-7768 https://thenccaa.org/common/controls/image_handler.aspx?thumb_id=15&image_path=/images/2016/6/1/Cedarville_new09.jpg\n",
      "CENTRAL CHRISTIAN COLLEGE OF KANSAS 1200 S. Main StreetMcPherson, KS 67460-5740(620) 241-0723 https://thenccaa.org/common/controls/image_handler.aspx?thumb_id=13&image_path=/images/2017/6/30/CENTRAL_CHRISTIAN_C_OF_KS_LOGO_adjusted_.jpg\n",
      "CENTRAL CHRISTIAN COLLEGE OF THE BIBLE 911 East Urbandale DriveMoberly, MO 65270-1923(660) 263-3900 https://thenccaa.org/common/controls/image_handler.aspx?thumb_id=0&image_path=/images/2020/3/23/cc_saints_torch_logo_2017.png\n",
      "CHAMPION CHRISTIAN COLLEGE 600 Garland AvenueHot Springs, AR 71913(501) 623-2272 https://thenccaa.org/common/controls/image_handler.aspx?thumb_id=0&image_path=/images/2018/6/21/Official_Tiger.png\n",
      "COLLEGE OF THE OZARKS 100 Opportunity AvenuePoint Lookout, MO 65726(800) 222-0525 https://thenccaa.org/common/controls/image_handler.aspx?thumb_id=0&image_path=/images/2018/8/8/BobcatHead_maroon.png\n",
      "COLUMBIA INTERNATIONAL UNIVERSITY 7435 Monticello RoadColumbia, SC 29203-1513(803) 754-4100 https://thenccaa.org/common/controls/image_handler.aspx?thumb_id=0&image_path=/images/2020/9/1/CIU_Rams_primary_RGB2.png\n",
      "CONCORDIA UNIVERSITY ANN ARBOR 4090 Geddes Rd.Ann Arbor, MI 48105(734) 995-7310 https://thenccaa.org/common/controls/image_handler.aspx?thumb_id=0&image_path=/images/2021/8/16/cuaa_logo_rgb.png\n",
      "CROWN COLLEGE 8700 College View DriveSaint Bonifacius, MN 55375(952) 446-4100 https://thenccaa.org/common/controls/image_handler.aspx?thumb_id=14&image_path=/images/2021/7/22/Storm_Primary_Horizontal.png\n",
      "None Object\n",
      "None Object\n",
      "DALLAS BAPTIST UNIVERSITY 3000 Mountain Creek ParkwayDallas, TX 75211-6700(214) 333-5360 https://thenccaa.org/common/controls/image_handler.aspx?thumb_id=0&image_path=/images/2016/7/11/DBU_Arched_16_17.jpg\n",
      "DALLAS CHRISTIAN COLLEGE 2700 Christian ParkwayDallas, TX 75234-7229(972) 241-3371 https://thenccaa.org/common/controls/image_handler.aspx?thumb_id=0&image_path=/images/2018/8/6/DCC_Athletic_Logo.png\n",
      "None Object\n",
      "None Object\n",
      "ECCLESIA COLLEGE 9653 Nations DriveSpringdale, AR 72762-8159(479) 248-7236 https://thenccaa.org/common/controls/image_handler.aspx?thumb_id=0&image_path=/images/2017/7/3/Ecclesia_Athletics_adjusted_.png\n",
      "EMMAUS BIBLE COLLEGE 2570 Asbury RoadDubuque, IA 52001(563) 588-8000 https://thenccaa.org/common/controls/image_handler.aspx?thumb_id=0&image_path=/images/2021/9/7/Emmaus_Bible_College.png\n",
      "ERSKINE COLLEGE 2 Washington StreetDue West, SC 29639(864) 379-2131 https://thenccaa.org/common/controls/image_handler.aspx?thumb_id=0&image_path=/images/2018/6/21/outlinehead.png\n",
      "None Object\n",
      "None Object\n",
      "FAITH BAPTIST BIBLE COLLEGE 1900 Northwest 4th StreetAnkeny, IA 50023-2152(515) 964-0601 https://thenccaa.org/common/controls/image_handler.aspx?thumb_id=0&image_path=/images/2019/11/13/Faith_new_.png\n",
      "None Object\n",
      "None Object\n",
      "GENEVA COLLEGE 3200 College AvenueBeaver Falls, PA 15010(724) 846-5100 https://thenccaa.org/common/controls/image_handler.aspx?thumb_id=0&image_path=/images/2018/6/21/Tornado_2018_Final_FullColor.png\n",
      "GRACE CHRISTIAN UNIVERSITY 1011 Aldon Street SouthwestGrand Rapids, MI 49509-1921(616) 538-2330 https://thenccaa.org/common/controls/image_handler.aspx?thumb_id=0&image_path=/images/2018/7/9/Grace_Athletics_Logo1_full_trueblack.png\n",
      "GRACE COLLEGE 1 Lancer WayWinona Lake, IN 46590-1224(574) 372-5100 https://thenccaa.org/common/controls/image_handler.aspx?thumb_id=15&image_path=/images/2018/6/5/grace_lancers_logo_rgb.png\n",
      "GREAT LAKES CHRISTIAN COLLEGE 6211 West Willow HighwayLansing, MI 48917-1299(517) 321-0242 https://thenccaa.org/common/controls/image_handler.aspx?thumb_id=0&image_path=/images/2018/8/6/GLCC_Athletics.png\n",
      "GREENVILLE UNIVERSITY 315 East College AvenueGreenville, IL 62246-1145(618) 664-2800 https://thenccaa.org/common/controls/image_handler.aspx?thumb_id=15&image_path=/images/2017/7/5/Panther_Head.png\n",
      "None Object\n",
      "None Object\n",
      "HANNIBAL-LAGRANGE UNIVERSITY 2800 Palmyra RoadHannibal, MO 63401(573) 221-3675 https://thenccaa.org/common/controls/image_handler.aspx?thumb_id=0&image_path=/images/2018/6/21/HLGU_FullTrojan.png\n",
      "HOUGHTON COLLEGE 1 Willard AvenueHoughton, NY 14744-8732(800) 777-2556 https://thenccaa.org/common/controls/image_handler.aspx?thumb_id=15&image_path=/images/2016/6/2/HOUGHTON11.jpg\n",
      "HUNTINGTON UNIVERSITY 2303 College AvenueHuntington, IN 46750-1237(260) 356-6000 https://thenccaa.org/common/controls/image_handler.aspx?thumb_id=15&image_path=/images/2016/6/2/Huntingtontwo09.jpg\n",
      "None Object\n",
      "None Object\n",
      "JOHNSON UNIVERSITY FLORIDA 1011 Bill Beck BoulevardKissimmee, FL 34744-4402(407) 847-8966 https://thenccaa.org/common/controls/image_handler.aspx?thumb_id=0&image_path=/images/2020/9/1/JU_Suns_Primary_Logo_CMYK_Color2.png\n",
      "JOHNSON UNIVERSITY TENNESSEE 7900 Johnson DriveKnoxville, TN 37998-0001(865) 251-2200 https://thenccaa.org/common/controls/image_handler.aspx?thumb_id=0&image_path=/images/2019/12/16/Screenshot_63_.png\n"
     ]
    },
    {
     "name": "stdout",
     "output_type": "stream",
     "text": [
      "JUDSON UNIVERSITY 1151 North State StreetElgin, IL 60123-1404(847) 628-2500 https://thenccaa.org/common/controls/image_handler.aspx?thumb_id=0&image_path=/images/2020/1/30/JUDSON_EAGLES_Stacked_logo.png\n",
      "None Object\n",
      "None Object\n",
      "KANSAS CHRISTIAN COLLEGE 7401 MetcalfOverland Park, KS 66204(913) 722-0272 https://thenccaa.org/common/controls/image_handler.aspx?thumb_id=0&image_path=/images/2020/9/22/Kansas_Christian_College_Sports_PNG_.png\n",
      "KENTUCKY CHRISTIAN UNIVERSITY 100 Academic ParkwayGrayson, KY 41143-2205(606) 474-3000 https://thenccaa.org/common/controls/image_handler.aspx?thumb_id=14&image_path=/images/2016/6/2/KentuckyChristian09.jpg\n",
      "None Object\n",
      "None Object\n",
      "LANCASTER BIBLE COLLEGE 901 Eden RoadLancaster, PA 17601-5036(717) 569-7071 https://thenccaa.org/common/controls/image_handler.aspx?thumb_id=0&image_path=/images/2016/6/3/LancasterBible09.jpg\n",
      "LINCOLN CHRISTIAN UNIVERSITY 100 Campus View DriveLincoln, IL 62656-2111(217) 732-3168 https://thenccaa.org/common/controls/image_handler.aspx?thumb_id=0&image_path=/images/2020/3/30/03_Red_Lion_Mascot_PMS_1807.png\n",
      "None Object\n",
      "None Object\n",
      "MALONE UNIVERSITY 2600 Cleveland Ave NWCanton, OH 44709(800) 521-1146 https://thenccaa.org/common/controls/image_handler.aspx?thumb_id=0&image_path=/images/2021/6/23/01_FULL_PIONEERS_4C.png\n",
      "MANHATTAN CHRISTIAN COLLEGE 1415 Anderson AvenueManhattan, KS 66502-4081(785) 539-3571 https://thenccaa.org/common/controls/image_handler.aspx?thumb_id=0&image_path=/images/2016/6/6/ManhattanThunderLogoFINAL.jpg\n",
      "MARANATHA BAPTIST UNIVERSITY 745 West Main StreetWatertown, WI 53094-7638(920) 261-9300 https://thenccaa.org/common/controls/image_handler.aspx?thumb_id=0&image_path=/images/2021/2/16/saber_m_navy_gold.png\n",
      "MID-AMERICA CHRISTIAN UNIVERSITY 3500 SW 119th StreetOklahoma City, OK 73170-4500(405) 691-3102 https://thenccaa.org/common/controls/image_handler.aspx?thumb_id=0&image_path=/images/2020/9/1/MACU_Athletics_Logo_Evangel_01_without_text2.png\n",
      "MOODY BIBLE INSTITUTE 820 North La Salle DriveChicago, IL 60610-3263(312) 329-4000 https://thenccaa.org/common/controls/image_handler.aspx?thumb_id=13&image_path=/images/2016/6/6/M_Arch_LockupFull_4C_CMYK.jpg\n",
      "None Object\n",
      "None Object\n",
      "NORTH CENTRAL UNIVERSITY 910 Elliot AvenueMinneapolis, MN 55404-1391(800) 289-6222 https://thenccaa.org/common/controls/image_handler.aspx?thumb_id=0&image_path=/images/2021/6/23/Rams_Logo.png\n",
      "NORTH GREENVILLE UNIVERSITY 7801 N. Tigerville Rd.Tigerville, SC 29688(864) 977-7000 https://thenccaa.org/common/controls/image_handler.aspx?thumb_id=0&image_path=/images/2019/5/20/NGUSword.png\n",
      "None Object\n",
      "None Object\n",
      "OAK HILLS CHRISTIAN COLLEGE 1600 Oak Hills Road SWBemidji, MN 56601-8826(888) 751-8670 https://thenccaa.org/common/controls/image_handler.aspx?thumb_id=15&image_path=/images/2016/6/7/Wolfpack_vertical_GOLD.jpg\n",
      "OAKLAND CITY UNIVERSITY 138 North Lucretia StreetOakland City, IN 47660-1038(812) 749-1231 https://thenccaa.org/common/controls/image_handler.aspx?thumb_id=14&image_path=/images/2016/8/22/athletics_full_color_logo_2.jpg\n",
      "OHIO CHRISTIAN UNIVERSITY 1476 Lancaster PikeCircleville, OH 43113-9487(740) 474-8896 https://thenccaa.org/common/controls/image_handler.aspx?thumb_id=0&image_path=/images/2020/3/24/OCU_PNG_logo.png\n",
      "OKLAHOMA WESLEYAN UNIVERSITY 2201 Silver Lake RoadBartlesville, OK 74006-6233(918) 335-6843 https://thenccaa.org/common/controls/image_handler.aspx?thumb_id=0&image_path=/images/2020/9/2/OKWU_Eagle_Full_5_.png\n",
      "OLIVET NAZARENE UNIVERSITY 1 University AvenueBourbonnais, IL 60914-2345(815) 939-5011 https://thenccaa.org/common/controls/image_handler.aspx?thumb_id=0&image_path=/images/2019/2/5/Tiger_Head_with_ONU_CMYK.png\n",
      "OTTAWA UNIVERSITY ARIZONA 15950 N. Civic Center PlazaSurprise, AZ 85374(855) 546-1342 https://thenccaa.org/common/controls/image_handler.aspx?thumb_id=15&image_path=/images/2017/7/7/OU_1612_Spirit_Logo_PMS_Gradient_clean.jpg\n",
      "OZARK CHRISTIAN COLLEGE 1111 North Main StreetJoplin, MO 64801(417) 626-1234 https://thenccaa.org/common/controls/image_handler.aspx?thumb_id=13&image_path=/images/2016/6/7/occ_logos_face.png\n",
      "None Object\n",
      "None Object\n",
      "PAINE COLLEGE 1235 15th St.Augusta, GA 30901(706) 821-8200 https://thenccaa.org/common/controls/image_handler.aspx?thumb_id=0&image_path=/images/2021/6/23/Paine_College_Lions_Primary_Logo.png\n",
      "PENSACOLA CHRISTIAN COLLEGE 250 Brent LanePensacola, FL 32523-9160(850) 478-8496 https://thenccaa.org/common/controls/image_handler.aspx?thumb_id=15&image_path=/images/2016/6/7/Primary_Eagle_Logo_2015.png\n",
      "PORTLAND BIBLE COLLEGE 9150 NE Fremont StreetPortland, OR 97220-3682(503) 255-3540 https://thenccaa.org/common/controls/image_handler.aspx?thumb_id=0&image_path=/images/2016/6/8/Portland_Bible.jpg\n",
      "PROVIDENCE CHRISTIAN COLLEGE 1539 East Howard StreetPasadena, CA 91104-2635(626) 696-4000 https://thenccaa.org/common/controls/image_handler.aspx?thumb_id=15&image_path=/images/2016/6/29/Providence_Sea_Beggars.jpg\n",
      "PROVIDENCE UNIVERSITY COLLEGE 10 College CrescentOtterburne, Manitoba, Canada, ROA 1G0(204) 433-7488 https://thenccaa.org/common/controls/image_handler.aspx?thumb_id=0&image_path=/images/2021/8/9/Pilots_Head_Logo_White_Outline.png\n",
      "None Object\n",
      "None Object\n",
      "RANDALL UNIVERSITY 3701 S. I-35 Service RoadMoore, OK 73160(405) 912-9000 https://thenccaa.org/common/controls/image_handler.aspx?thumb_id=12&image_path=/images/2016/6/2/RandallU.png\n",
      "REGENT UNIVERSITY 1000 Regent University DriveVirginia Beach, VA 23464-9800(757) 352-4486 https://thenccaa.org/common/controls/image_handler.aspx?thumb_id=0&image_path=/images/2021/6/14/ROYALS_LOGOS_Primary_3color_tweak.png\n",
      "ROBERTS WESLEYAN COLLEGE 2301 Westside Drive OFCRochester, NY 14624-1997(585) 594-6000 https://thenccaa.org/common/controls/image_handler.aspx?thumb_id=0&image_path=/images/2020/3/23/Athletics_Sub_branded_Full_Color_Basketball_copy_30.png\n",
      "None Object\n",
      "None Object\n",
      "SAGU AMERICAN INDIAN COLLEGE 10020 N. 15th AvenuePhoenix, AZ 85021(602) 994-3335 https://thenccaa.org/common/controls/image_handler.aspx?thumb_id=15&image_path=/images/2017/7/7/Warrior_Logo_for_Sports.jpg\n",
      "SIMMONS COLLEGE OF KENTUCKY 1000 South Fourth StreetLouisville, KY 40203(502) 776-1443 https://thenccaa.org/common/controls/image_handler.aspx?thumb_id=0&image_path=/images/2016/7/25/simmonsfalcon.png\n",
      "SOUTHEASTERN BAPTIST COLLEGE 4229 Hwy 15 NorthLaurel, MS 39440(601) 426-6346 https://thenccaa.org/common/controls/image_handler.aspx?thumb_id=0&image_path=/images/2018/6/21/Charger_png.png\n",
      "SOUTHERN WESLEYAN UNIVERSITY 907 Wesleyan DriveCentral, SC 29630-9748(864) 644-5000 https://thenccaa.org/common/controls/image_handler.aspx?thumb_id=0&image_path=/images/2018/7/10/Warrior_head.png\n",
      "SOUTHWESTERN ADVENTIST UNIVERSITY 100 W. Hillcrest StreetKeene, TX 76059(817) 645-3921 https://thenccaa.org/common/controls/image_handler.aspx?thumb_id=0&image_path=/images/2018/6/21/SWAU_Knight.png\n",
      "SOUTHWESTERN ASSEMBLIES OF GOD UNIVERSITY 1200 Sycamore StreetWaxahachie, TX 75165-2397(888) 937-7248 https://thenccaa.org/common/controls/image_handler.aspx?thumb_id=15&image_path=/images/2016/6/8/sagu.jpg\n",
      "SOUTHWESTERN CHRISTIAN UNIVERSITY 7210 NW 39th ExpresswayBethany, OK 73008-0340(405) 789-7661 https://thenccaa.org/common/controls/image_handler.aspx?thumb_id=0&image_path=/images/2016/6/8/SouthwesternChristianAthleticLogo10.jpg\n",
      "SPURGEON COLLEGE 5001 North Oak TrafficwayKansas City, MO 64118(816) 414-3700 https://thenccaa.org/common/controls/image_handler.aspx?thumb_id=14&image_path=/images/2019/6/24/knights_full.png\n",
      "STERLING COLLEGE 125 W Cooper AveSterling, KS 67579(620) 278-2173 https://thenccaa.org/common/controls/image_handler.aspx?thumb_id=0&image_path=/images/2021/6/24/Primary_Logo_color.png\n",
      "None Object\n",
      "None Object\n",
      "TOCCOA FALLS COLLEGE 107 Kincaid DriveToccoa Falls, GA 30598-9602(706) 886-7299 https://thenccaa.org/common/controls/image_handler.aspx?thumb_id=0&image_path=/images/2016/6/9/toccoa.png\n",
      "TRINITY BAPTIST COLLEGE 800 Hammond BoulevardJacksonville, FL 32221-1342(904) 596-2400 https://thenccaa.org/common/controls/image_handler.aspx?thumb_id=14&image_path=/images/2016/6/9/TRINITY_BAPTIST_COLLEGE.jpg\n",
      "TRINITY BIBLE COLLEGE 50 Sixth Avenue SouthEllendale, ND 58436-7105(701) 349-5402 https://thenccaa.org/common/controls/image_handler.aspx?thumb_id=0&image_path=/images/2016/7/13/TBC_Lion_offical_16_17.png\n"
     ]
    },
    {
     "name": "stdout",
     "output_type": "stream",
     "text": [
      "TRINITY CHRISTIAN COLLEGE 6601 West College DrivePalos Heights, IL 60463-1768(708) 597-3000 https://thenccaa.org/common/controls/image_handler.aspx?thumb_id=0&image_path=/images/2017/8/31/Trinity_Trolls_03.png\n",
      "TRINITY COLLEGE OF FLORIDA 2430 Welbilt BoulevardTrinity, FL 34655-4401(727) 376-6911 https://thenccaa.org/common/controls/image_handler.aspx?thumb_id=15&image_path=/images/2016/6/9/TrinityFL09.jpg\n",
      "TRINITY INTERNATIONAL UNIVERSITY 2065 Half Day RoadDeerfield, IL 60015-1241(847) 945-8800 https://thenccaa.org/common/controls/image_handler.aspx?thumb_id=0&image_path=/images/2017/7/20/TIU_TrojanHead.jpg\n",
      "None Object\n",
      "None Object\n",
      "UNIVERSITY OF FORT LAUDERDALE 4131 NW 16th St.Lauderhill, FL 33313(954) 486-7728 https://thenccaa.org/common/controls/image_handler.aspx?thumb_id=0&image_path=/images/2021/8/27/Combo_Final_stroke.png\n",
      "UNIVERSITY OF NORTHWESTERN 3003 Snelling Avenue NorthSaint Paul, MN 55113-1598(651) 631-5100 https://thenccaa.org/common/controls/image_handler.aspx?thumb_id=15&image_path=/images/2016/6/9/Northwestern_Eaglehead_3C.PNG\n",
      "None Object\n",
      "None Object\n",
      "VIRGINIA UNIVERSITY OF LYNCHBURG 2058 Garfield AvenueLynchburg, VA 24501(434) 528-5276 https://thenccaa.org/common/controls/image_handler.aspx?thumb_id=0&image_path=/images/2020/9/9/TRANSPARENT.png\n",
      "None Object\n",
      "None Object\n",
      "WARNER UNIVERSITY 13895 Highway 27Lake Wales, FL 33859-2549(800) 949-7248 https://thenccaa.org/common/controls/image_handler.aspx?thumb_id=0&image_path=/images/2019/11/7/Warner_University.png\n",
      "WELCH COLLEGE 1045 Bison TrailGallatin, TN 37066(615) 844-5000 https://thenccaa.org/common/controls/image_handler.aspx?thumb_id=0&image_path=/images/2020/3/30/Welch_College.png\n",
      "WEST COAST BAPTIST COLLEGE 4010 East Lancaster BoulevardLancaster, CA 93535-7727(661) 946-4663 https://thenccaa.org/common/controls/image_handler.aspx?thumb_id=14&image_path=/images/2016/8/22/WCBC_Eagles_Logo.png\n",
      "None Object\n",
      "None Object\n",
      "YELLOWSTONE CHRISTIAN COLLEGE 1515 South Shiloh RoadBillings, MT 59106-3303(406) 656-9950 https://thenccaa.org/common/controls/image_handler.aspx?thumb_id=12&image_path=/images/2017/7/6/CenturionLogoFinal_adjusted_.jpg\n",
      "YORK COLLEGE 1125 East 8th StreetYork, NE 68467-3200(402) 363-4441 https://thenccaa.org/common/controls/image_handler.aspx?thumb_id=14&image_path=/images/2017/7/21/Panther_logo_17_18.png\n",
      "None Object\n"
     ]
    }
   ],
   "source": [
    "with open('NCCAA_DATABASE.csv', 'w', encoding='utf8', newline='') as f:\n",
    "    thewriter = writer(f)\n",
    "    header = ['Name', 'Address','LinkOfInstitute','LOGO']\n",
    "    thewriter.writerow(header)\n",
    "    for i in links:\n",
    "        driver.implicitly_wait(1)\n",
    "#         print(i3)\n",
    "        if i == None:\n",
    "            print('None Object')\n",
    "        elif i[-3:] == 'Top':\n",
    "#             \n",
    "                print('None Object')\n",
    "        else:\n",
    "#                 lis=i\n",
    "#                 print(i)\n",
    "                driver.get(i)\n",
    "                linkOfInstitute = i\n",
    "                name=driver.find_element(By.XPATH,('//*[@id=\"ctl00_cplhMainContent_headline_h1\"]')).text.replace('\\n', '')\n",
    "                \n",
    "                address=driver.find_element(By.XPATH,('/html/body/form/main/div/article/div/span/span/strong')).text.replace('\\n', '')\n",
    "                img = driver.find_element_by_xpath('/html/body/form/main/div/article/div/table[2]/tbody/tr[1]/td[2]').find_element(By.TAG_NAME,('img')).get_attribute('src')\n",
    "                print(name, address, img)\n",
    "    \n",
    "    \n",
    "        \n",
    "        info = [name,address,linkOfInstitute,img]\n",
    "        \n",
    "        thewriter.writerow(info)"
   ]
  },
  {
   "cell_type": "code",
   "execution_count": 49,
   "id": "3fa7ba10",
   "metadata": {},
   "outputs": [
    {
     "name": "stdout",
     "output_type": "stream",
     "text": [
      "https://thenccaa.org/common/controls/image_handler.aspx?thumb_id=15&image_path=/images/2018/6/5/grace_lancers_logo_rgb.png\n"
     ]
    },
    {
     "name": "stderr",
     "output_type": "stream",
     "text": [
      "/tmp/ipykernel_3837/519693666.py:1: DeprecationWarning: find_element_by_xpath is deprecated. Please use find_element(by=By.XPATH, value=xpath) instead\n",
      "  img = driver.find_element_by_xpath('/html/body/form/main/div/article/div/table[2]/tbody/tr[1]/td[2]/img').get_attribute('src')\n"
     ]
    }
   ],
   "source": [
    "img = driver.find_element_by_xpath('/html/body/form/main/div/article/div/table[2]/tbody/tr[1]/td[2]/img').get_attribute('src')\n",
    "print(img)"
   ]
  },
  {
   "cell_type": "code",
   "execution_count": 10,
   "id": "6511b820",
   "metadata": {},
   "outputs": [],
   "source": [
    "with open('NCCAA_DATABASE.csv','r') as in_file, open('U_NCCAA_DATABASE.csv','w') as out_file:\n",
    "  \n",
    "    seen = set() # set for fast O(1) amortized lookup\n",
    "    \n",
    "    for line in in_file:\n",
    "        if line in seen:\n",
    "            continue # skip duplicate\n",
    "\n",
    "        seen.add(line)\n",
    "        out_file.write(line)"
   ]
  },
  {
   "cell_type": "code",
   "execution_count": 11,
   "id": "7bdf84d2",
   "metadata": {},
   "outputs": [],
   "source": [
    "# def test_import():\n",
    "#     with open('U_NCCAA_DATABASE.csv', 'r') as fh:\n",
    "#         dataset = Dataset().load(fh)\n",
    "#     book_resource = BookResource()\n",
    "#     result = book_resource.import_data(dataset, raise_errors=True)\n",
    "#     print(result.totals)"
   ]
  },
  {
   "cell_type": "code",
   "execution_count": 12,
   "id": "69e7368c",
   "metadata": {},
   "outputs": [
    {
     "ename": "NameError",
     "evalue": "name 'Dataset' is not defined",
     "output_type": "error",
     "traceback": [
      "\u001b[0;31m---------------------------------------------------------------------------\u001b[0m",
      "\u001b[0;31mNameError\u001b[0m                                 Traceback (most recent call last)",
      "Input \u001b[0;32mIn [12]\u001b[0m, in \u001b[0;36m<cell line: 1>\u001b[0;34m()\u001b[0m\n\u001b[0;32m----> 1\u001b[0m \u001b[43mtest_import\u001b[49m\u001b[43m(\u001b[49m\u001b[43m)\u001b[49m\n",
      "Input \u001b[0;32mIn [11]\u001b[0m, in \u001b[0;36mtest_import\u001b[0;34m()\u001b[0m\n\u001b[1;32m      1\u001b[0m \u001b[38;5;28;01mdef\u001b[39;00m \u001b[38;5;21mtest_import\u001b[39m():\n\u001b[1;32m      2\u001b[0m     \u001b[38;5;28;01mwith\u001b[39;00m \u001b[38;5;28mopen\u001b[39m(\u001b[38;5;124m'\u001b[39m\u001b[38;5;124mU_NCCAA_DATABASE.csv\u001b[39m\u001b[38;5;124m'\u001b[39m, \u001b[38;5;124m'\u001b[39m\u001b[38;5;124mr\u001b[39m\u001b[38;5;124m'\u001b[39m) \u001b[38;5;28;01mas\u001b[39;00m fh:\n\u001b[0;32m----> 3\u001b[0m         dataset \u001b[38;5;241m=\u001b[39m \u001b[43mDataset\u001b[49m()\u001b[38;5;241m.\u001b[39mload(fh)\n\u001b[1;32m      4\u001b[0m     book_resource \u001b[38;5;241m=\u001b[39m BookResource()\n\u001b[1;32m      5\u001b[0m     result \u001b[38;5;241m=\u001b[39m book_resource\u001b[38;5;241m.\u001b[39mimport_data(dataset, raise_errors\u001b[38;5;241m=\u001b[39m\u001b[38;5;28;01mTrue\u001b[39;00m)\n",
      "\u001b[0;31mNameError\u001b[0m: name 'Dataset' is not defined"
     ]
    }
   ],
   "source": [
    "# test_import()"
   ]
  },
  {
   "cell_type": "code",
   "execution_count": null,
   "id": "4b138976",
   "metadata": {},
   "outputs": [],
   "source": []
  }
 ],
 "metadata": {
  "kernelspec": {
   "display_name": "Python 3 (ipykernel)",
   "language": "python",
   "name": "python3"
  },
  "language_info": {
   "codemirror_mode": {
    "name": "ipython",
    "version": 3
   },
   "file_extension": ".py",
   "mimetype": "text/x-python",
   "name": "python",
   "nbconvert_exporter": "python",
   "pygments_lexer": "ipython3",
   "version": "3.8.10"
  }
 },
 "nbformat": 4,
 "nbformat_minor": 5
}
