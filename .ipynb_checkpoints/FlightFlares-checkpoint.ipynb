{
 "cells": [
  {
   "cell_type": "code",
   "execution_count": 3,
   "id": "facf3926",
   "metadata": {},
   "outputs": [],
   "source": [
    "from selenium import webdriver\n",
    "from selenium.webdriver.common.keys import Keys\n",
    "from selenium.webdriver.support import expected_conditions as EC\n",
    "from selenium.webdriver.common.by import By\n",
    "from selenium.webdriver.support.wait import WebDriverWait\n",
    "import pandas as pd\n",
    "import time\n",
    "from bs4 import BeautifulSoup\n",
    "import requests\n",
    "from csv import writer"
   ]
  },
  {
   "cell_type": "code",
   "execution_count": 4,
   "id": "adf9a767",
   "metadata": {},
   "outputs": [
    {
     "name": "stderr",
     "output_type": "stream",
     "text": [
      "/tmp/ipykernel_31949/3440779317.py:1: DeprecationWarning: executable_path has been deprecated, please pass in a Service object\n",
      "  driver = webdriver.Chrome(executable_path='/home/const/Downloads/chromedriver_linux64/chromedriver')\n"
     ]
    }
   ],
   "source": [
    "\n",
    "driver = webdriver.Chrome(executable_path='/home/const/Downloads/chromedriver_linux64/chromedriver')\n",
    "driver.get(\"https://www.airblue.com/agents/\")\n"
   ]
  },
  {
   "cell_type": "code",
   "execution_count": 5,
   "id": "fc6c3837",
   "metadata": {},
   "outputs": [],
   "source": [
    "username = WebDriverWait(driver,10).until(EC.element_to_be_clickable((By.CSS_SELECTOR,\"input[name='login']\")))\n",
    "password = WebDriverWait(driver,10).until(EC.element_to_be_clickable((By.CSS_SELECTOR,\"input[name='password']\")))"
   ]
  },
  {
   "cell_type": "code",
   "execution_count": 6,
   "id": "a463a9cc",
   "metadata": {},
   "outputs": [
    {
     "name": "stdout",
     "output_type": "stream",
     "text": [
      "Enter the username: scraper\n",
      "Enter the password: mehman2022\n"
     ]
    }
   ],
   "source": [
    "username.clear()\n",
    "password.clear()\n",
    "\n",
    "USERNAME = input(\"Enter the username: \")\n",
    "PASSWORD = input(\"Enter the password: \")\n",
    "\n",
    "username.send_keys(USERNAME)\n",
    "password.send_keys(PASSWORD)"
   ]
  },
  {
   "cell_type": "code",
   "execution_count": 7,
   "id": "d78ffd0a",
   "metadata": {},
   "outputs": [],
   "source": [
    "log_in = WebDriverWait(driver,10).until(EC.element_to_be_clickable((By.CSS_SELECTOR,\"input[type='submit']\"))).click()\n"
   ]
  },
  {
   "cell_type": "markdown",
   "id": "9ee3e6e8",
   "metadata": {},
   "source": [
    "# SEARCH FOR FLIGHT"
   ]
  },
  {
   "cell_type": "code",
   "execution_count": 8,
   "id": "6240f821",
   "metadata": {},
   "outputs": [
    {
     "name": "stdout",
     "output_type": "stream",
     "text": [
      "Enter Arrival City ID:ISB\n",
      "Enter Departure City ID:DXB\n",
      "Enter Departure Date:16-June\n",
      "Enter Arrival Date:19-June\n"
     ]
    }
   ],
   "source": [
    "arrival_cityID = input('Enter Arrival City ID:')"
   ]
  },
  {
   "cell_type": "code",
   "execution_count": null,
   "id": "496562dd",
   "metadata": {},
   "outputs": [],
   "source": [
    "departure_cityID = input('Enter Departure City ID:')"
   ]
  },
  {
   "cell_type": "code",
   "execution_count": null,
   "id": "fd22c9c3",
   "metadata": {},
   "outputs": [],
   "source": [
    "departDate = input('Enter Departure Date:')"
   ]
  },
  {
   "cell_type": "code",
   "execution_count": null,
   "id": "088d709f",
   "metadata": {},
   "outputs": [],
   "source": [
    "arrivalDate = input('Enter Arrival Date:')"
   ]
  },
  {
   "cell_type": "code",
   "execution_count": 13,
   "id": "ecd0f95e",
   "metadata": {},
   "outputs": [
    {
     "name": "stdout",
     "output_type": "stream",
     "text": [
      "Enter the type of Flight:One Way\n"
     ]
    }
   ],
   "source": [
    "flightType = input('Enter the type of Flight:')"
   ]
  },
  {
   "cell_type": "code",
   "execution_count": 14,
   "id": "adc2ef40",
   "metadata": {},
   "outputs": [],
   "source": [
    "flight_type = driver.find_element(By.XPATH,'//*[@id=\"app\"]/div/form/ul/li/label/span[text()=\"'+flightType+'\"]').click()"
   ]
  },
  {
   "cell_type": "code",
   "execution_count": 15,
   "id": "4b2a5a1f",
   "metadata": {},
   "outputs": [],
   "source": [
    "\n",
    "departure_dropdown = driver.find_element(By.XPATH,\"//*[@id='app']/div/form/div/div[1]/div/div/div/div[1]/div[1]/div/input[2]\").click()\n",
    "\n",
    "departure_city = driver.find_element(By.XPATH,\"//*[@id='\"+departure_cityID+\"']/span\").click()"
   ]
  },
  {
   "cell_type": "code",
   "execution_count": 16,
   "id": "eb74a3a2",
   "metadata": {},
   "outputs": [],
   "source": [
    "\n",
    "arrival_dropdown = driver.find_element(By.XPATH,\"//*[@id='app']/div/form/div/div[1]/div/div/div/div[1]/div[2]/div/input[2]\").click()\n",
    "\n",
    "arrival_city = driver.find_element(By.XPATH,\"/html/body/div/table/tbody/tr/td/table/tbody/tr[3]/td[1]/div[1]/div/div/form/div/div[1]/div/div/div/div[1]/div[2]/div/ul/li[@id='\"+arrival_cityID+\"']/span\").click()"
   ]
  },
  {
   "cell_type": "code",
   "execution_count": 17,
   "id": "f993a73a",
   "metadata": {},
   "outputs": [],
   "source": [
    "# //*[@id=\"app\"]/div/form/div/div[1]/div/div/div/div[2]/div[1]/span/input\n",
    "departure_date_dropdown = driver.find_element(By.XPATH,\"//*[@id='app']/div/form/div/div[1]/div/div/div/div[2]/div[1]/span/input\")\n",
    "departure_date_dropdown.clear()\n",
    "departure_date_dropdown.send_keys(departDate)\n",
    "# departure_date = driver.find_element(By.XPATH,\"//*[@id='app']/div/form/div/div[1]/div/div/div/div[2]/div[1]/span/input\").click()"
   ]
  },
  {
   "cell_type": "code",
   "execution_count": 18,
   "id": "6f8c5136",
   "metadata": {},
   "outputs": [],
   "source": [
    "arrival_date_dropdown = driver.find_element(By.XPATH,\"//*[@id='app']/div/form/div/div[1]/div/div/div/div[2]/div[2]/span/input\")\n",
    "arrival_date_dropdown.clear()\n",
    "arrival_date_dropdown.send_keys(arrivalDate)\n",
    "\n",
    "# arrival_date = driver.find_element(By.XPATH,\"//*[@id='app']/div/form/div/div[1]/div/div/div/div[2]/div[2]/span/input\").click()"
   ]
  },
  {
   "cell_type": "code",
   "execution_count": 17,
   "id": "8a939534",
   "metadata": {},
   "outputs": [],
   "source": [
    "Guests = driver.find_element(By.XPATH,\"//*[@id='app']/div/form/div/div[2]/div[1]/div\").click()\n"
   ]
  },
  {
   "cell_type": "code",
   "execution_count": 18,
   "id": "3d4925de",
   "metadata": {},
   "outputs": [],
   "source": [
    "Adults = driver.find_element(By.XPATH,\"//*[@id='app']/div/form/div/div[2]/div[1]/div[2]/div/div/div[1]/ul/li[1]/div/div/span[2]\").click()\n",
    "Infants = driver.find_element(By.XPATH,'//*[@id=\"app\"]/div/form/div/div[2]/div[1]/div[2]/div/div/div[1]/ul/li[3]/div/div/span[2]').click()\n",
    "Children = driver.find_element(By.XPATH,'//*[@id=\"app\"]/div/form/div/div[2]/div[1]/div[2]/div/div/div[1]/ul/li[2]/div/div/span[2]').click()\n"
   ]
  },
  {
   "cell_type": "code",
   "execution_count": 19,
   "id": "a4e5e987",
   "metadata": {},
   "outputs": [
    {
     "ename": "NoSuchElementException",
     "evalue": "Message: no such element: Unable to locate element: {\"method\":\"xpath\",\"selector\":\"//*[@id=\"app\"]/div/form/div/div[2]/div[1]/div[2]/div/div/div[2]/button\"}\n  (Session info: chrome=98.0.4758.80)\nStacktrace:\n#0 0x5630fb742113 <unknown>\n#1 0x5630fb20a6d8 <unknown>\n#2 0x5630fb2408c1 <unknown>\n#3 0x5630fb240a81 <unknown>\n#4 0x5630fb273b84 <unknown>\n#5 0x5630fb25e08d <unknown>\n#6 0x5630fb27190b <unknown>\n#7 0x5630fb25df53 <unknown>\n#8 0x5630fb233bda <unknown>\n#9 0x5630fb234ca5 <unknown>\n#10 0x5630fb7738dd <unknown>\n#11 0x5630fb78ca9b <unknown>\n#12 0x5630fb7756b5 <unknown>\n#13 0x5630fb78d725 <unknown>\n#14 0x5630fb76908f <unknown>\n#15 0x5630fb7aa188 <unknown>\n#16 0x5630fb7aa308 <unknown>\n#17 0x5630fb7c4a6d <unknown>\n#18 0x7fbd67df0609 <unknown>\n",
     "output_type": "error",
     "traceback": [
      "\u001b[0;31m---------------------------------------------------------------------------\u001b[0m",
      "\u001b[0;31mNoSuchElementException\u001b[0m                    Traceback (most recent call last)",
      "Input \u001b[0;32mIn [19]\u001b[0m, in \u001b[0;36m<cell line: 1>\u001b[0;34m()\u001b[0m\n\u001b[0;32m----> 1\u001b[0m \u001b[43mdriver\u001b[49m\u001b[38;5;241;43m.\u001b[39;49m\u001b[43mfind_element\u001b[49m\u001b[43m(\u001b[49m\u001b[43mBy\u001b[49m\u001b[38;5;241;43m.\u001b[39;49m\u001b[43mXPATH\u001b[49m\u001b[43m,\u001b[49m\u001b[38;5;124;43m'\u001b[39;49m\u001b[38;5;124;43m//*[@id=\u001b[39;49m\u001b[38;5;124;43m\"\u001b[39;49m\u001b[38;5;124;43mapp\u001b[39;49m\u001b[38;5;124;43m\"\u001b[39;49m\u001b[38;5;124;43m]/div/form/div/div[2]/div[1]/div[2]/div/div/div[2]/button\u001b[39;49m\u001b[38;5;124;43m'\u001b[39;49m\u001b[43m)\u001b[49m\u001b[38;5;241m.\u001b[39mclick()\n",
      "File \u001b[0;32m~/.local/lib/python3.8/site-packages/selenium/webdriver/remote/webdriver.py:1248\u001b[0m, in \u001b[0;36mWebDriver.find_element\u001b[0;34m(self, by, value)\u001b[0m\n\u001b[1;32m   1245\u001b[0m     by \u001b[38;5;241m=\u001b[39m By\u001b[38;5;241m.\u001b[39mCSS_SELECTOR\n\u001b[1;32m   1246\u001b[0m     value \u001b[38;5;241m=\u001b[39m \u001b[38;5;124m'\u001b[39m\u001b[38;5;124m[name=\u001b[39m\u001b[38;5;124m\"\u001b[39m\u001b[38;5;132;01m%s\u001b[39;00m\u001b[38;5;124m\"\u001b[39m\u001b[38;5;124m]\u001b[39m\u001b[38;5;124m'\u001b[39m \u001b[38;5;241m%\u001b[39m value\n\u001b[0;32m-> 1248\u001b[0m \u001b[38;5;28;01mreturn\u001b[39;00m \u001b[38;5;28;43mself\u001b[39;49m\u001b[38;5;241;43m.\u001b[39;49m\u001b[43mexecute\u001b[49m\u001b[43m(\u001b[49m\u001b[43mCommand\u001b[49m\u001b[38;5;241;43m.\u001b[39;49m\u001b[43mFIND_ELEMENT\u001b[49m\u001b[43m,\u001b[49m\u001b[43m \u001b[49m\u001b[43m{\u001b[49m\n\u001b[1;32m   1249\u001b[0m \u001b[43m    \u001b[49m\u001b[38;5;124;43m'\u001b[39;49m\u001b[38;5;124;43musing\u001b[39;49m\u001b[38;5;124;43m'\u001b[39;49m\u001b[43m:\u001b[49m\u001b[43m \u001b[49m\u001b[43mby\u001b[49m\u001b[43m,\u001b[49m\n\u001b[1;32m   1250\u001b[0m \u001b[43m    \u001b[49m\u001b[38;5;124;43m'\u001b[39;49m\u001b[38;5;124;43mvalue\u001b[39;49m\u001b[38;5;124;43m'\u001b[39;49m\u001b[43m:\u001b[49m\u001b[43m \u001b[49m\u001b[43mvalue\u001b[49m\u001b[43m}\u001b[49m\u001b[43m)\u001b[49m[\u001b[38;5;124m'\u001b[39m\u001b[38;5;124mvalue\u001b[39m\u001b[38;5;124m'\u001b[39m]\n",
      "File \u001b[0;32m~/.local/lib/python3.8/site-packages/selenium/webdriver/remote/webdriver.py:425\u001b[0m, in \u001b[0;36mWebDriver.execute\u001b[0;34m(self, driver_command, params)\u001b[0m\n\u001b[1;32m    423\u001b[0m response \u001b[38;5;241m=\u001b[39m \u001b[38;5;28mself\u001b[39m\u001b[38;5;241m.\u001b[39mcommand_executor\u001b[38;5;241m.\u001b[39mexecute(driver_command, params)\n\u001b[1;32m    424\u001b[0m \u001b[38;5;28;01mif\u001b[39;00m response:\n\u001b[0;32m--> 425\u001b[0m     \u001b[38;5;28;43mself\u001b[39;49m\u001b[38;5;241;43m.\u001b[39;49m\u001b[43merror_handler\u001b[49m\u001b[38;5;241;43m.\u001b[39;49m\u001b[43mcheck_response\u001b[49m\u001b[43m(\u001b[49m\u001b[43mresponse\u001b[49m\u001b[43m)\u001b[49m\n\u001b[1;32m    426\u001b[0m     response[\u001b[38;5;124m'\u001b[39m\u001b[38;5;124mvalue\u001b[39m\u001b[38;5;124m'\u001b[39m] \u001b[38;5;241m=\u001b[39m \u001b[38;5;28mself\u001b[39m\u001b[38;5;241m.\u001b[39m_unwrap_value(\n\u001b[1;32m    427\u001b[0m         response\u001b[38;5;241m.\u001b[39mget(\u001b[38;5;124m'\u001b[39m\u001b[38;5;124mvalue\u001b[39m\u001b[38;5;124m'\u001b[39m, \u001b[38;5;28;01mNone\u001b[39;00m))\n\u001b[1;32m    428\u001b[0m     \u001b[38;5;28;01mreturn\u001b[39;00m response\n",
      "File \u001b[0;32m~/.local/lib/python3.8/site-packages/selenium/webdriver/remote/errorhandler.py:247\u001b[0m, in \u001b[0;36mErrorHandler.check_response\u001b[0;34m(self, response)\u001b[0m\n\u001b[1;32m    245\u001b[0m         alert_text \u001b[38;5;241m=\u001b[39m value[\u001b[38;5;124m'\u001b[39m\u001b[38;5;124malert\u001b[39m\u001b[38;5;124m'\u001b[39m]\u001b[38;5;241m.\u001b[39mget(\u001b[38;5;124m'\u001b[39m\u001b[38;5;124mtext\u001b[39m\u001b[38;5;124m'\u001b[39m)\n\u001b[1;32m    246\u001b[0m     \u001b[38;5;28;01mraise\u001b[39;00m exception_class(message, screen, stacktrace, alert_text)  \u001b[38;5;66;03m# type: ignore[call-arg]  # mypy is not smart enough here\u001b[39;00m\n\u001b[0;32m--> 247\u001b[0m \u001b[38;5;28;01mraise\u001b[39;00m exception_class(message, screen, stacktrace)\n",
      "\u001b[0;31mNoSuchElementException\u001b[0m: Message: no such element: Unable to locate element: {\"method\":\"xpath\",\"selector\":\"//*[@id=\"app\"]/div/form/div/div[2]/div[1]/div[2]/div/div/div[2]/button\"}\n  (Session info: chrome=98.0.4758.80)\nStacktrace:\n#0 0x5630fb742113 <unknown>\n#1 0x5630fb20a6d8 <unknown>\n#2 0x5630fb2408c1 <unknown>\n#3 0x5630fb240a81 <unknown>\n#4 0x5630fb273b84 <unknown>\n#5 0x5630fb25e08d <unknown>\n#6 0x5630fb27190b <unknown>\n#7 0x5630fb25df53 <unknown>\n#8 0x5630fb233bda <unknown>\n#9 0x5630fb234ca5 <unknown>\n#10 0x5630fb7738dd <unknown>\n#11 0x5630fb78ca9b <unknown>\n#12 0x5630fb7756b5 <unknown>\n#13 0x5630fb78d725 <unknown>\n#14 0x5630fb76908f <unknown>\n#15 0x5630fb7aa188 <unknown>\n#16 0x5630fb7aa308 <unknown>\n#17 0x5630fb7c4a6d <unknown>\n#18 0x7fbd67df0609 <unknown>\n"
     ]
    }
   ],
   "source": [
    "driver.find_element(By.XPATH,'//*[@id=\"app\"]/div/form/div/div[2]/div[1]/div[2]/div/div/div[2]/button').click()\n"
   ]
  },
  {
   "cell_type": "code",
   "execution_count": 20,
   "id": "0dca4bf3",
   "metadata": {},
   "outputs": [],
   "source": [
    "driver.find_element(By.XPATH,'//*[@id=\"app\"]/div/form/div/div[3]/button').click()"
   ]
  },
  {
   "cell_type": "markdown",
   "id": "e639667c",
   "metadata": {},
   "source": [
    "# SCRAPE SEARCHED DATA"
   ]
  },
  {
   "cell_type": "code",
   "execution_count": 200,
   "id": "3eb0455f",
   "metadata": {},
   "outputs": [],
   "source": [
    "# flights = driver.find_element(By.XPATH,'//*[@id=\"trip_1_date_2022_05_14\"]')"
   ]
  },
  {
   "cell_type": "code",
   "execution_count": 210,
   "id": "75be62c3",
   "metadata": {},
   "outputs": [],
   "source": [
    "# flights"
   ]
  },
  {
   "cell_type": "code",
   "execution_count": 222,
   "id": "724f3561",
   "metadata": {},
   "outputs": [],
   "source": [
    "# url= \"https://www.airblue.com/agents/bookings/Vues/flight_selection.aspx?=auto\"\n",
    "# # url = \"https://www.amazon.com/s?k=gaming+keyboard&pd_rd_r=20d76277-e558-40b8-b7ec-12b637647b9f&pd_rd_w=d4WV7&pd_rd_wg=hi17L&pf_rd_p=12129333-2117-4490-9c17-6d31baf0582a&pf_rd_r=N1AKG5HJ0CQ9FDYZE07G&ref=pd_gw_unk\"\n",
    "# page = requests.get(url)\n",
    "# print(page)"
   ]
  },
  {
   "cell_type": "code",
   "execution_count": 23,
   "id": "159c169f",
   "metadata": {},
   "outputs": [
    {
     "name": "stdout",
     "output_type": "stream",
     "text": [
      "[<div class=\"flight-option\"><div class=\"flight-itinerary\"><div class=\"route\"><strong><!-- -->Nonstop<!-- --></strong></div><div class=\"time leaving\"><span class=\"title\">Depart Time: </span><strong>5:55 PM<!-- --></strong><div class=\"flight-number\"><span class=\"title\">Flight Number: </span><strong>PA-110</strong><!-- --><!-- --></div></div><div class=\"time landing\"><span class=\"title\">Landing Time: </span><strong> 7:10 PM <!-- --></strong><div class=\"ac-type\"><strong>A320</strong></div></div><div class=\"flight-stops\"><h4>Nonstop</h4><div class=\"segments\"><span class=\"segment\"></span></div><div class=\"flight-duration\"><strong>2hr 15min</strong></div></div></div><div class=\"fares flight-status-ontime\"><div class=\"fare family-EV family-group-Y\"><label class=\"fare-price\" data-title=\"All Guests:\n",
      "PKR 101,742\"><input class=\"\" name=\"trip_1\" type=\"radio\" value=\"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,NORMAL\"/><span class=\"price\"><b>PKR</b> 33,309</span><!-- --><!-- --></label></div><div class=\"fare family-EF family-group-Y\"><label class=\"fare-price\" data-title=\"All Guests:\n",
      "PKR 106,065\"><input class=\"\" name=\"trip_1\" type=\"radio\" value=\"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,NORMAL\"/><span class=\"price\"><b>PKR</b> 34,826</span><!-- --><!-- --></label></div><div class=\"fare family-EX family-group-Y\"><label class=\"fare-price\" data-title=\"All Guests:\n",
      "PKR 113,270\"><input class=\"\" name=\"trip_1\" type=\"radio\" value=\"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,NORMAL\"/><span class=\"price\"><b>PKR</b> 37,354</span><!-- --><!-- --></label></div></div><!-- --></div>]\n"
     ]
    }
   ],
   "source": [
    "soup = BeautifulSoup(driver.page_source)\n",
    "lists = soup.find_all(\"div\", {\"class\":\"flight-option\"})\n",
    "print(lists)"
   ]
  },
  {
   "cell_type": "code",
   "execution_count": 30,
   "id": "a4548c9a",
   "metadata": {},
   "outputs": [
    {
     "name": "stdout",
     "output_type": "stream",
     "text": [
      "value\n",
      "(NO BAG)\n",
      "flexi\n",
      "(20 KG BAG)\n",
      "xtra\n",
      "(2 BAGS 20KG EACH)\n",
      "PKR 33,309\n",
      "PKR 34,826\n",
      "PKR 37,354\n",
      "Depart Time: 5:55 PMFlight Number: PA-110\n",
      "Landing Time:  7:10 PM A320\n",
      "Nonstop2hr 15min \n",
      "\n"
     ]
    }
   ],
   "source": [
    "with open('FlightFares.csv', 'w', encoding='utf8', newline='') as f:\n",
    "    thewriter = writer(f)\n",
    "    header = ['Title','Price','Arrival Details','Departure Details']\n",
    "    thewriter.writerow(header)\n",
    "\n",
    "    for list in lists:\n",
    "\n",
    "        titles=driver.find_elements(By.XPATH,'//*[@id=\"trip_1\"]/div[1]/div[2]/div/ul/li')\n",
    "        for i in titles:\n",
    "            title = i.text\n",
    "            print(title)\n",
    "        prices = driver.find_elements(By.XPATH,'//div[@class=\"flight-option\"]/div[2]')\n",
    "        for i in prices:\n",
    "            price = i.text\n",
    "            print(price)\n",
    "        price = list.find('span', class_=\"price\").text.replace('\\n', '')\n",
    "#         print(listtitle)\n",
    "        departureDetails = list.find('div', class_=\"time leaving\").text\n",
    "        print(departureDetails)\n",
    "        arrivalDetails = list.find('div', class_=\"time landing\").text\n",
    "        print(arrivalDetails)\n",
    "        flightDuration= list.find('div', class_=\"flight-stops\").text\n",
    "#         flightDuration=flightDuration[:-3] + ' : ' + flightDuration[-3:]\n",
    "        print(flightDuration,'\\n')\n",
    "\n",
    "        \n",
    "        info = [title,price,departureDetails,arrivalDetails]\n",
    "        thewriter.writerow(info)"
   ]
  },
  {
   "cell_type": "code",
   "execution_count": null,
   "id": "452c569f",
   "metadata": {},
   "outputs": [],
   "source": []
  },
  {
   "cell_type": "code",
   "execution_count": null,
   "id": "3167c748",
   "metadata": {},
   "outputs": [],
   "source": []
  }
 ],
 "metadata": {
  "kernelspec": {
   "display_name": "Python 3 (ipykernel)",
   "language": "python",
   "name": "python3"
  },
  "language_info": {
   "codemirror_mode": {
    "name": "ipython",
    "version": 3
   },
   "file_extension": ".py",
   "mimetype": "text/x-python",
   "name": "python",
   "nbconvert_exporter": "python",
   "pygments_lexer": "ipython3",
   "version": "3.8.10"
  }
 },
 "nbformat": 4,
 "nbformat_minor": 5
}
