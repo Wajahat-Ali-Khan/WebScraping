{
 "cells": [
  {
   "cell_type": "code",
   "execution_count": 2,
   "id": "b64830e2",
   "metadata": {},
   "outputs": [],
   "source": [
    "from selenium import webdriver\n",
    "from selenium.webdriver.common.keys import Keys\n",
    "from selenium.webdriver.support import expected_conditions as EC\n",
    "from selenium.webdriver.common.by import By\n",
    "from selenium.webdriver.support.wait import WebDriverWait\n",
    "import pandas as pd\n",
    "import time\n",
    "from bs4 import BeautifulSoup\n",
    "from selenium.webdriver.support.ui import Select\n",
    "import requests\n",
    "from csv import writer"
   ]
  },
  {
   "cell_type": "code",
   "execution_count": 3,
   "id": "8ff3668b",
   "metadata": {},
   "outputs": [
    {
     "name": "stderr",
     "output_type": "stream",
     "text": [
      "C:\\Users\\CZ3~1\\AppData\\Local\\Temp/ipykernel_5792/414500558.py:1: DeprecationWarning: executable_path has been deprecated, please pass in a Service object\n",
      "  driver = webdriver.Chrome(executable_path=r'C:\\Users\\CZ 3\\Downloads\\chromedriver_win32\\chromedriver.exe')\n"
     ]
    }
   ],
   "source": [
    "driver = webdriver.Chrome(executable_path=r'C:\\Users\\CZ 3\\Downloads\\chromedriver_win32\\chromedriver.exe')\n",
    "driver.get(\"https://www.airblue.com/agents/\")"
   ]
  },
  {
   "cell_type": "code",
   "execution_count": 6,
   "id": "d9358e53",
   "metadata": {},
   "outputs": [],
   "source": [
    "driver.maximize_window()\n",
    "# driver.deleteAllCookies();\n",
    "# driver.timeouts().pageLoadTimeout(40, TimeUnit.SECONDS);\n",
    "# driver.timeouts().implicitlyWait(30, TimeUnit.SECONDS);"
   ]
  },
  {
   "cell_type": "code",
   "execution_count": 7,
   "id": "e63ba2c5",
   "metadata": {},
   "outputs": [
    {
     "name": "stdout",
     "output_type": "stream",
     "text": [
      "<selenium.webdriver.remote.webelement.WebElement (session=\"c1ec58ca92dc41bad9dd481bf437cc59\", element=\"a362e467-55b3-415f-a519-317024dd92bf\")>\n"
     ]
    }
   ],
   "source": [
    "username = WebDriverWait(driver,10).until(EC.element_to_be_clickable((By.CSS_SELECTOR,\"input[name='login']\")))\n",
    "print(username)\n",
    "password = WebDriverWait(driver,10).until(EC.element_to_be_clickable((By.CSS_SELECTOR,\"input[name='password']\")))"
   ]
  },
  {
   "cell_type": "code",
   "execution_count": 12,
   "id": "7c4e19fc",
   "metadata": {},
   "outputs": [
    {
     "name": "stdout",
     "output_type": "stream",
     "text": [
      "Enter the username: scraper\n",
      "Enter the password: mehman2022\n"
     ]
    }
   ],
   "source": [
    "username.clear()\n",
    "password.clear()\n",
    "USERNAME = input(\"Enter the username: \")\n",
    "PASSWORD = input(\"Enter the password: \")"
   ]
  },
  {
   "cell_type": "code",
   "execution_count": 13,
   "id": "b4f49cfe",
   "metadata": {},
   "outputs": [],
   "source": [
    "username.send_keys(USERNAME)\n",
    "password.send_keys(PASSWORD)\n"
   ]
  },
  {
   "cell_type": "code",
   "execution_count": 14,
   "id": "a1edda70",
   "metadata": {},
   "outputs": [
    {
     "name": "stdout",
     "output_type": "stream",
     "text": [
      "None\n"
     ]
    }
   ],
   "source": [
    "log_in = WebDriverWait(driver,10).until(EC.element_to_be_clickable((By.CSS_SELECTOR,\"input[type='submit']\"))).click()\n",
    "print(log_in)"
   ]
  },
  {
   "cell_type": "code",
   "execution_count": 16,
   "id": "71edd1bd",
   "metadata": {},
   "outputs": [
    {
     "name": "stdout",
     "output_type": "stream",
     "text": [
      "Enter the Flight Type: one-way\n",
      "Enter the Departure: ISB\n"
     ]
    }
   ],
   "source": [
    "# flight_type.clear()\n",
    "# departure.clear()\n",
    "flightType = input(\"Enter the Flight Type: \")\n",
    "Departure= input(\"Enter the Departure: \")"
   ]
  },
  {
   "cell_type": "code",
   "execution_count": 18,
   "id": "b6404fd6",
   "metadata": {},
   "outputs": [],
   "source": [
    "flight_types = driver.find_elements(By.XPATH,('//*[@id=\"app\"]/div/form/ul'))\n",
    "# print(flight_types)\n",
    "for option in flight_types:\n",
    "    if flightType == 'multi-city':\n",
    "        try:\n",
    "            option.find_element(By.XPATH,('//*[@id=\"app\"]/div/form/ul/li[@class=\"multi-city selected\"]')).click()\n",
    "            \n",
    "        except:\n",
    "            option.find_element(By.XPATH,('//*[@id=\"app\"]/div/form/ul/li[@class=\"multi-city\"]')).click()\n",
    "\n",
    "        print(value)\n",
    "    elif flightType == 'one-way':\n",
    "        try:\n",
    "            option.find_element(By.XPATH,('//*[@id=\"app\"]/div/form/ul/li[@class=\"one-way selected\"]')).click()\n",
    "        except:\n",
    "            option.find_element(By.XPATH,('//*[@id=\"app\"]/div/form/ul/li[@class=\"one-way\"]')).click()\n",
    "\n",
    "    elif flightType == 'round-trip':\n",
    "        try:\n",
    "            option.find_element(By.XPATH,('//*[@id=\"app\"]/div/form/ul/li[@class=\"round-trip selected\"]')).click()\n",
    "        except:\n",
    "            option.find_element(By.XPATH,('//*[@id=\"app\"]/div/form/ul/li[@class=\"round-trip\"]')).click()  \n",
    "            \n",
    "    \n",
    "    else:\n",
    "        print(\"Choose Right Flight Type\")\n"
   ]
  },
  {
   "cell_type": "code",
   "execution_count": 99,
   "id": "2be39435",
   "metadata": {},
   "outputs": [],
   "source": [
    "\n",
    "departureCity = driver.find_elements(By.XPATH,('//*[@id=\"autocomplete-results\"]'))\n",
    "# print(flight_types)\n",
    "for option in departureCity:\n",
    "    if Departure == 'DXB':\n",
    "        try:\n",
    "            \n",
    "            option.find_element(By.XPATH,('//*[@id=\"DXB\"]')).click()\n",
    "#         except:\n",
    "#             option.find_element(By.XPATH,('//*[@id=\"app\"]/div/form/ul/li[@class=\"multi-city selected\"]')).click()\n",
    "\n",
    "#         print(value)\n",
    "    elif flightType == 'ISB':\n",
    "        try:\n",
    "            option.find_element(By.XPATH,('//*[@id=\"ISB\"]')).click()\n",
    "#         except:\n",
    "#             option.find_element(By.XPATH,('//*[@id=\"app\"]/div/form/ul/li[@class=\"one-way selected\"]')).click()\n",
    "\n",
    "    elif flightType == 'AUH':\n",
    "        try:\n",
    "            option.find_element(By.XPATH,('//*[@id=\"AUH\"]')).click()\n",
    "#         except:    \n",
    "#             option.find_element(By.XPATH,('//*[@id=\"app\"]/div/form/ul/li[@class=\"round-trip selected\"]')).click()\n",
    "    \n",
    "    else:\n",
    "        print(\"Choose Right City\")"
   ]
  },
  {
   "cell_type": "code",
   "execution_count": null,
   "id": "d902546d",
   "metadata": {},
   "outputs": [],
   "source": []
  },
  {
   "cell_type": "code",
   "execution_count": null,
   "id": "812dab4a",
   "metadata": {},
   "outputs": [],
   "source": []
  },
  {
   "cell_type": "code",
   "execution_count": null,
   "id": "4670b476",
   "metadata": {},
   "outputs": [],
   "source": []
  },
  {
   "cell_type": "code",
   "execution_count": null,
   "id": "e766c579",
   "metadata": {},
   "outputs": [],
   "source": []
  },
  {
   "cell_type": "code",
   "execution_count": null,
   "id": "d234eebf",
   "metadata": {},
   "outputs": [],
   "source": []
  },
  {
   "cell_type": "code",
   "execution_count": null,
   "id": "fa7e9ccb",
   "metadata": {},
   "outputs": [],
   "source": []
  },
  {
   "cell_type": "code",
   "execution_count": 18,
   "id": "4df1fe62",
   "metadata": {},
   "outputs": [],
   "source": [
    "# departure_city = WebDriverWait(driver,10).until(EC.element_to_be_clickable((By.CSS_SELECTOR,\"ul[id='autocomplete-results']\")))\n",
    "# print(departure_city)\n",
    "# arrival_city = WebDriverWait(driver,10).until(EC.element_to_be_clickable((By.CSS_SELECTOR,\"div[class='city-arrival']\")))\n",
    "# startDate = WebDriverWait(driver,10).until(EC.element_to_be_clickable((By.CSS_SELECTOR,\"input[placeholder='Depart']\")))\n",
    "# endDate = WebDriverWait(driver,10).until(EC.element_to_be_clickable((By.CSS_SELECTOR,\"input[placeholder='Return']\")))"
   ]
  },
  {
   "cell_type": "code",
   "execution_count": 168,
   "id": "07d7f23b",
   "metadata": {},
   "outputs": [
    {
     "name": "stdout",
     "output_type": "stream",
     "text": [
      "Enter the DepartureCity: Karachi\n",
      "Enter the ArrivalCity: Islamabad\n",
      "Enter the StartDate: 11-May\n",
      "Enter the EndDate: 12-June\n"
     ]
    }
   ],
   "source": [
    "# departure_city.clear()\n",
    "# arrival_city.clear()\n",
    "# startDate.clear()\n",
    "# endDate.clear()\n",
    "DepartureCity = input(\"Enter the DepartureCity: \")\n",
    "ArrivalCity = input(\"Enter the ArrivalCity: \")\n",
    "StartDate = input(\"Enter the StartDate: \")\n",
    "EndDate = input(\"Enter the EndDate: \")"
   ]
  },
  {
   "cell_type": "code",
   "execution_count": 181,
   "id": "565eda2b",
   "metadata": {},
   "outputs": [],
   "source": [
    "# departure_city.send_keys(DepartureCity)\n",
    "# arrival_city.send_keys(ArrivalCity)\n",
    "# startDate.send_keys(StartDate)\n",
    "# endDate.send_keys(EndDate)"
   ]
  },
  {
   "cell_type": "code",
   "execution_count": 198,
   "id": "b1fc2b5b",
   "metadata": {},
   "outputs": [
    {
     "name": "stdout",
     "output_type": "stream",
     "text": [
      "<bound method WebElement.click of <selenium.webdriver.remote.webelement.WebElement (session=\"a9b813a69c712a62c8703c693aa6bcea\", element=\"3f65397f-e8ba-4c79-9ebb-ba4374385ec8\")>>\n"
     ]
    },
    {
     "name": "stderr",
     "output_type": "stream",
     "text": [
      "C:\\Users\\CZ3~1\\AppData\\Local\\Temp/ipykernel_3984/4079741712.py:6: DeprecationWarning: find_element_by_xpath is deprecated. Please use find_element(by=By.XPATH, value=xpath) instead\n",
      "  result = driver.find_element_by_xpath('//li[@id=\"DXB\"]').click\n"
     ]
    }
   ],
   "source": [
    "# # search = input(\"Enter Search:\")\n",
    "# result = driver.find_elements_by_xpath('//ul[@id=\"autocomplete-results\"]')\n",
    "# print(result)\n",
    "# DepartureCity = input(\"Enter the DepartureCity: \")\n",
    "# result.send_keys(DepartureCity)\n",
    "result = driver.find_element_by_xpath('//li[@id=\"DXB\"]').click\n",
    "print(result)"
   ]
  },
  {
   "cell_type": "code",
   "execution_count": 36,
   "id": "22ed73df",
   "metadata": {},
   "outputs": [],
   "source": [
    "# print(result)"
   ]
  },
  {
   "cell_type": "code",
   "execution_count": 39,
   "id": "ce47e349",
   "metadata": {},
   "outputs": [
    {
     "name": "stdout",
     "output_type": "stream",
     "text": [
      "<Response [200]>\n"
     ]
    }
   ],
   "source": [
    "url= \"https://www.airblue.com/agents/bookings/Vues/flight_selection.aspx?=auto\"\n",
    "# url = \"https://www.amazon.com/s?k=gaming+keyboard&pd_rd_r=20d76277-e558-40b8-b7ec-12b637647b9f&pd_rd_w=d4WV7&pd_rd_wg=hi17L&pf_rd_p=12129333-2117-4490-9c17-6d31baf0582a&pf_rd_r=N1AKG5HJ0CQ9FDYZE07G&ref=pd_gw_unk\"\n",
    "page = requests.get(url)\n",
    "print(page)"
   ]
  },
  {
   "cell_type": "code",
   "execution_count": 44,
   "id": "f0f8eae1",
   "metadata": {},
   "outputs": [],
   "source": [
    "# soup = BeautifulSoup(page.content, 'html.parser')\n",
    "# lists = soup.find_all(\"div\", {\"class\":\"trip_segment_block flexible-dates\"})\n",
    "# print(lists)"
   ]
  },
  {
   "cell_type": "code",
   "execution_count": 70,
   "id": "60fc271f",
   "metadata": {},
   "outputs": [
    {
     "name": "stdout",
     "output_type": "stream",
     "text": [
      "[<selenium.webdriver.remote.webelement.WebElement (session=\"a9b813a69c712a62c8703c693aa6bcea\", element=\"90c31be2-c36d-4c88-9fd6-98dcba1a3f7a\")>, <selenium.webdriver.remote.webelement.WebElement (session=\"a9b813a69c712a62c8703c693aa6bcea\", element=\"4debcb64-8373-4922-991f-a036bdf84e32\")>]\n"
     ]
    },
    {
     "name": "stderr",
     "output_type": "stream",
     "text": [
      "C:\\Users\\CZ3~1\\AppData\\Local\\Temp/ipykernel_3984/4093669132.py:1: DeprecationWarning: find_elements_by_xpath is deprecated. Please use find_elements(by=By.XPATH, value=xpath) instead\n",
      "  flight_list = driver.find_elements_by_xpath('//div[@class=\"trip_segment_block flexible-dates\"]')\n"
     ]
    }
   ],
   "source": [
    "flight_list = driver.find_elements_by_xpath('//div[@class=\"trip_segment_block flexible-dates\"]')\n",
    "# flight_lis1 = driver.find_elements_by_xpath('//div[@class=\"trip_segment_block flexible-dates\"]').get_attribute('innerHTML')\n",
    "print(flight_list)"
   ]
  },
  {
   "cell_type": "code",
   "execution_count": 77,
   "id": "fd2512b5",
   "metadata": {},
   "outputs": [
    {
     "name": "stdout",
     "output_type": "stream",
     "text": [
      "Karachi\n",
      "Islamabad\n",
      "7:15 AM\n",
      "9:15 AM\n",
      "Karachi\n",
      "Islamabad\n",
      "7:15 AM\n",
      "9:15 AM\n"
     ]
    }
   ],
   "source": [
    "with open('FlightDetails.csv', 'w', encoding='utf8', newline='') as f:\n",
    "    thewriter = writer(f)\n",
    "    header = ['Departure airport', 'Arrival airport','Departure Time','arrival time',\n",
    "# ' number of adults'\n",
    "]\n",
    "    thewriter.writerow(header)\n",
    "\n",
    "    for list in flight_list:\n",
    "#         d.find_element(By.NAME,\"username\")\n",
    "        Departure_airport = list.find_element_by_xpath(\"//div[@class='city origin international']/div/span\").text\n",
    "        print(Departure_airport)\n",
    "        Arrival_airport = list.find_element_by_xpath(\"//div[@class='city destination international']/div/span\").text\n",
    "        print(Arrival_airport)\n",
    "        leaving_time = list.find_element_by_xpath(\"//div[@class='time leaving']/strong\").text\n",
    "        print(leaving_time)\n",
    "        arrival_time = list.find_element_by_xpath(\"//div[@class='time landing']/strong\").text\n",
    "        print(arrival_time)\n",
    "        \n",
    "        info = [Departure_airport,Arrival_airport,leaving_time,arrival_time]\n",
    "        thewriter.writerow(info)"
   ]
  },
  {
   "cell_type": "code",
   "execution_count": 159,
   "id": "e1d33dc4",
   "metadata": {
    "scrolled": true
   },
   "outputs": [
    {
     "name": "stderr",
     "output_type": "stream",
     "text": [
      "C:\\Users\\CZ3~1\\AppData\\Local\\Temp/ipykernel_3984/1997991840.py:1: DeprecationWarning: find_elements_by_xpath is deprecated. Please use find_elements(by=By.XPATH, value=xpath) instead\n",
      "  places = driver.find_elements_by_xpath('//*[@class=\"city-departure\"]/div/ul/li')\n"
     ]
    },
    {
     "name": "stdout",
     "output_type": "stream",
     "text": [
      "['Abu Dhabi (AUH)', 'Dubai (DXB)', 'Islamabad (ISB)', 'Istanbul (ISL)', 'Jeddah (JED)', 'Karachi (KHI)', 'Lahore (LHE)', 'Medina (MED)', 'Multan (MUX)', 'Peshawar (PEW)', 'Quetta (UET)', 'Ras Al Khaimah (RKT)', 'Riyadh (RUH)', 'Sharjah (SHJ)', 'Skardu (KDU)', 'Zurich (ZRH)']\n"
     ]
    }
   ],
   "source": [
    "places = driver.find_elements_by_xpath('//*[@class=\"city-departure\"]/div/ul/li')\n",
    "# print(places)\n",
    "place = []\n",
    "for d in places:\n",
    "    place.append(d.get_attribute('data-value'))\n",
    "    \n",
    "print(place)\n"
   ]
  },
  {
   "cell_type": "code",
   "execution_count": 119,
   "id": "cb28e114",
   "metadata": {},
   "outputs": [],
   "source": [
    "# driver.find_element_by_xpath(\"//*[@class='autocomplete']/ul/li[@data-value='Abu Dhabi (AUH)']\").click()\n",
    "# grbf = input('enter value:')\n",
    "# value = places.select_by_value(grbf)"
   ]
  },
  {
   "cell_type": "code",
   "execution_count": 164,
   "id": "3b0a9773",
   "metadata": {},
   "outputs": [],
   "source": [
    "# place1 = driver.find_element_by_xpath('//*[@class=\"city-departure\"]/div/ul/li[@id = \"DXB\"]').click()"
   ]
  },
  {
   "cell_type": "code",
   "execution_count": 163,
   "id": "b6804d08",
   "metadata": {},
   "outputs": [
    {
     "ename": "AttributeError",
     "evalue": "'str' object has no attribute 'tag_name'",
     "output_type": "error",
     "traceback": [
      "\u001b[1;31m---------------------------------------------------------------------------\u001b[0m",
      "\u001b[1;31mAttributeError\u001b[0m                            Traceback (most recent call last)",
      "\u001b[1;32mC:\\Users\\CZ3~1\\AppData\\Local\\Temp/ipykernel_3984/737577587.py\u001b[0m in \u001b[0;36m<module>\u001b[1;34m\u001b[0m\n\u001b[1;32m----> 1\u001b[1;33m \u001b[0mSelect\u001b[0m\u001b[1;33m(\u001b[0m\u001b[0mplace\u001b[0m\u001b[1;33m[\u001b[0m\u001b[1;36m1\u001b[0m\u001b[1;33m]\u001b[0m\u001b[1;33m)\u001b[0m\u001b[1;33m\u001b[0m\u001b[1;33m\u001b[0m\u001b[0m\n\u001b[0m",
      "\u001b[1;32mC:\\Anaconda3\\lib\\site-packages\\selenium\\webdriver\\support\\select.py\u001b[0m in \u001b[0;36m__init__\u001b[1;34m(self, webelement)\u001b[0m\n\u001b[0;32m     34\u001b[0m             \u001b[0mSelect\u001b[0m\u001b[1;33m(\u001b[0m\u001b[0mdriver\u001b[0m\u001b[1;33m.\u001b[0m\u001b[0mfind_element\u001b[0m\u001b[1;33m(\u001b[0m\u001b[0mBy\u001b[0m\u001b[1;33m.\u001b[0m\u001b[0mTAG_NAME\u001b[0m\u001b[1;33m,\u001b[0m \u001b[1;34m\"select\"\u001b[0m\u001b[1;33m)\u001b[0m\u001b[1;33m)\u001b[0m\u001b[1;33m.\u001b[0m\u001b[0mselect_by_index\u001b[0m\u001b[1;33m(\u001b[0m\u001b[1;36m2\u001b[0m\u001b[1;33m)\u001b[0m\u001b[1;33m\u001b[0m\u001b[1;33m\u001b[0m\u001b[0m\n\u001b[0;32m     35\u001b[0m         \"\"\"\n\u001b[1;32m---> 36\u001b[1;33m         \u001b[1;32mif\u001b[0m \u001b[0mwebelement\u001b[0m\u001b[1;33m.\u001b[0m\u001b[0mtag_name\u001b[0m\u001b[1;33m.\u001b[0m\u001b[0mlower\u001b[0m\u001b[1;33m(\u001b[0m\u001b[1;33m)\u001b[0m \u001b[1;33m!=\u001b[0m \u001b[1;34m\"select\"\u001b[0m\u001b[1;33m:\u001b[0m\u001b[1;33m\u001b[0m\u001b[1;33m\u001b[0m\u001b[0m\n\u001b[0m\u001b[0;32m     37\u001b[0m             raise UnexpectedTagNameException(\n\u001b[0;32m     38\u001b[0m                 \u001b[1;34m\"Select only works on <select> elements, not on <%s>\"\u001b[0m \u001b[1;33m%\u001b[0m\u001b[1;33m\u001b[0m\u001b[1;33m\u001b[0m\u001b[0m\n",
      "\u001b[1;31mAttributeError\u001b[0m: 'str' object has no attribute 'tag_name'"
     ]
    }
   ],
   "source": [
    "Select(place[1])"
   ]
  },
  {
   "cell_type": "code",
   "execution_count": 171,
   "id": "267dd1d3",
   "metadata": {},
   "outputs": [
    {
     "name": "stderr",
     "output_type": "stream",
     "text": [
      "C:\\Users\\CZ3~1\\AppData\\Local\\Temp/ipykernel_3984/1285481074.py:1: DeprecationWarning: find_element_by_xpath is deprecated. Please use find_element(by=By.XPATH, value=xpath) instead\n",
      "  sel = Select(driver.find_element_by_xpath(\"//*[@class='autocomplete']/ul/li\"))\n"
     ]
    },
    {
     "ename": "UnexpectedTagNameException",
     "evalue": "Message: Select only works on <select> elements, not on <li>\n",
     "output_type": "error",
     "traceback": [
      "\u001b[1;31m---------------------------------------------------------------------------\u001b[0m",
      "\u001b[1;31mUnexpectedTagNameException\u001b[0m                Traceback (most recent call last)",
      "\u001b[1;32mC:\\Users\\CZ3~1\\AppData\\Local\\Temp/ipykernel_3984/1285481074.py\u001b[0m in \u001b[0;36m<module>\u001b[1;34m\u001b[0m\n\u001b[1;32m----> 1\u001b[1;33m \u001b[0msel\u001b[0m \u001b[1;33m=\u001b[0m \u001b[0mSelect\u001b[0m\u001b[1;33m(\u001b[0m\u001b[0mdriver\u001b[0m\u001b[1;33m.\u001b[0m\u001b[0mfind_element_by_xpath\u001b[0m\u001b[1;33m(\u001b[0m\u001b[1;34m\"//*[@class='autocomplete']/ul/li\"\u001b[0m\u001b[1;33m)\u001b[0m\u001b[1;33m)\u001b[0m\u001b[1;33m\u001b[0m\u001b[1;33m\u001b[0m\u001b[0m\n\u001b[0m",
      "\u001b[1;32mC:\\Anaconda3\\lib\\site-packages\\selenium\\webdriver\\support\\select.py\u001b[0m in \u001b[0;36m__init__\u001b[1;34m(self, webelement)\u001b[0m\n\u001b[0;32m     35\u001b[0m         \"\"\"\n\u001b[0;32m     36\u001b[0m         \u001b[1;32mif\u001b[0m \u001b[0mwebelement\u001b[0m\u001b[1;33m.\u001b[0m\u001b[0mtag_name\u001b[0m\u001b[1;33m.\u001b[0m\u001b[0mlower\u001b[0m\u001b[1;33m(\u001b[0m\u001b[1;33m)\u001b[0m \u001b[1;33m!=\u001b[0m \u001b[1;34m\"select\"\u001b[0m\u001b[1;33m:\u001b[0m\u001b[1;33m\u001b[0m\u001b[1;33m\u001b[0m\u001b[0m\n\u001b[1;32m---> 37\u001b[1;33m             raise UnexpectedTagNameException(\n\u001b[0m\u001b[0;32m     38\u001b[0m                 \u001b[1;34m\"Select only works on <select> elements, not on <%s>\"\u001b[0m \u001b[1;33m%\u001b[0m\u001b[1;33m\u001b[0m\u001b[1;33m\u001b[0m\u001b[0m\n\u001b[0;32m     39\u001b[0m                 webelement.tag_name)\n",
      "\u001b[1;31mUnexpectedTagNameException\u001b[0m: Message: Select only works on <select> elements, not on <li>\n"
     ]
    }
   ],
   "source": [
    "sel = WebDriverWait(driver, 10).until(ExpectedConditions.elementToBeClickable(By.cssSelector(\"li[data-premise-id='5127035']\"))).click()"
   ]
  },
  {
   "cell_type": "code",
   "execution_count": null,
   "id": "757ce17a",
   "metadata": {},
   "outputs": [],
   "source": []
  }
 ],
 "metadata": {
  "kernelspec": {
   "display_name": "Python 3 (ipykernel)",
   "language": "python",
   "name": "python3"
  },
  "language_info": {
   "codemirror_mode": {
    "name": "ipython",
    "version": 3
   },
   "file_extension": ".py",
   "mimetype": "text/x-python",
   "name": "python",
   "nbconvert_exporter": "python",
   "pygments_lexer": "ipython3",
   "version": "3.8.5"
  }
 },
 "nbformat": 4,
 "nbformat_minor": 5
}
