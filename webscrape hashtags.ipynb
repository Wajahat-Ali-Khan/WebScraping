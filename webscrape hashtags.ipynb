{
 "cells": [
  {
   "cell_type": "code",
   "execution_count": 3,
   "id": "40d16f2f",
   "metadata": {},
   "outputs": [],
   "source": [
    "from requests import get\n",
    "from requests.exceptions import RequestException\n",
    "from contextlib import closing\n",
    "from bs4 import BeautifulSoup\n",
    "import pandas as pd\n",
    "import re\n",
    "import os, sys\n",
    "import fire"
   ]
  },
  {
   "cell_type": "code",
   "execution_count": 4,
   "id": "0fa35127",
   "metadata": {},
   "outputs": [],
   "source": [
    "def simple_get(url):\n",
    "    try:\n",
    "        with closing(get(url, stream=True)) as resp:\n",
    "            if is_good_response(resp):\n",
    "                return resp.content\n",
    "            else:\n",
    "                return None\n",
    "    except RequestException as e:\n",
    "        log_error('Error during requests to {0} : {1}'.format(url, str(e)))\n",
    "        return None"
   ]
  },
  {
   "cell_type": "code",
   "execution_count": 7,
   "id": "b2e16394",
   "metadata": {},
   "outputs": [],
   "source": [
    "def get_elements(url, tag='',search={}, fname=None):\n",
    "    if isinstance(url,str):\n",
    "        response = simple_get(url)\n",
    "    else:\n",
    "        #if already it is a loaded html page\n",
    "        response = url\n",
    "    if response is not None:\n",
    "        html = BeautifulSoup(response, 'html.parser')\n",
    "        \n",
    "        res = []\n",
    "        if tag:    \n",
    "            for li in html.select(tag):\n",
    "                for name in li.text.split('\\n'):\n",
    "                    if len(name) > 0:\n",
    "                        res.append(name.strip())\n",
    "                       \n",
    "                \n",
    "        if search:\n",
    "            soup = html            \n",
    "            \n",
    "            \n",
    "            r = ''\n",
    "            if 'find' in search.keys():\n",
    "                print('finding',search['find'])\n",
    "                soup = soup.find(**search['find'])\n",
    "                r = soup            \n",
    "            if 'find_all' in search.keys():\n",
    "                    print('finding all of',search['find_all'])\n",
    "                    r = soup.find_all(**search['find_all'])\n",
    "   \n",
    "            if r:\n",
    "                for x in list(r):\n",
    "                    if len(x) > 0:\n",
    "                        res.extend(x)\n",
    "            \n",
    "        return res"
   ]
  },
  {
   "cell_type": "code",
   "execution_count": null,
   "id": "36fbf51e",
   "metadata": {},
   "outputs": [],
   "source": [
    "res = get_elements('https://africafreak.com/100-most-influential-twitter-users-in-africa', tag = 'h2')\n",
    "url= 'https://www.atlanticcouncil.org/blogs/africasource/african-leaders-respond-to-coronavirus-on-twitter/#east-africa'\n",
    "response = simple_get(url)\n",
    "res_gov = get_elements(response, search={'find_all':{'class_':'twitter-tweet'}})\n"
   ]
  },
  {
   "cell_type": "code",
   "execution_count": 13,
   "id": "aec10bd8",
   "metadata": {},
   "outputs": [],
   "source": [
    "import tweepy\n",
    "# from tweepy.streaming import StreamListener\n",
    "from tweepy import OAuthHandler\n",
    "from tweepy import Stream\n",
    "from tweepy import Cursor\n",
    "from tweepy import API"
   ]
  },
  {
   "cell_type": "code",
   "execution_count": 14,
   "id": "3b72a6c9",
   "metadata": {},
   "outputs": [],
   "source": [
    "consumer_key = 'YOUR TWITTER API KEY'\n",
    "consumer_secret = 'YOUR TWITTER API SECRET KEY'\n",
    "access_token = 'YOUR TWITTER ACCESS TOKEN'\n",
    "access_token_secret = 'YOUR TWITTER ACCESS TOKEN SECRET'#authentication and connection\n",
    "auth = OAuthHandler(consumer_key, consumer_secret)\n",
    "auth.set_access_token(access_token, access_token_secret)\n",
    "            \n",
    "auth_api = API(auth)"
   ]
  },
  {
   "cell_type": "code",
   "execution_count": 15,
   "id": "26b928f8",
   "metadata": {},
   "outputs": [],
   "source": [
    "def get_user_info(list, csvfile):\n",
    "    users_info = []\n",
    "    for user in list:\n",
    "        print ('GETTING DATA FOR ' + user)\n",
    "        try:\n",
    "            item = auth_api.get_user(user)\n",
    "        \n",
    "            users_info.append([item.name, item.description, item.screen_name, item.created_at, item.statuses_count, item.friends_count, item.followers_count])\n",
    "            \n",
    "        except Exception:\n",
    "            pass\n",
    "        \n",
    "    print('Done!!')\n",
    "    \n",
    "    user_df = (pd.DataFrame(users_info, columns = [\"User\", \"Description\", \"Handle\", \"Creation Date\", \"Tweets\", \"Following\", \"Followers\"])).to_csv(csvfile, index = False, encoding = 'utf-8')"
   ]
  },
  {
   "cell_type": "code",
   "execution_count": 16,
   "id": "de58e2e8",
   "metadata": {},
   "outputs": [],
   "source": [
    "def get_tweets(list,csvfile1, csvfile2, csvfile3):\n",
    "    hashtags = []\n",
    "    mentions = []\n",
    "    for user in list:\n",
    "        print (\"GETTING DATA FOR \"+ user)\n",
    "        try:\n",
    "            for status in Cursor(auth_api.user_timeline, id = user).items():\n",
    "                if hasattr(status, \"entities\"):\n",
    "                    entities = status.entities\n",
    "                    if \"hashtags\" in entities:\n",
    "                        for ent in entities[\"hashtags\"]:\n",
    "                            if ent is not None:\n",
    "                                if \"text\" in ent:\n",
    "                                    hashtag = ent[\"text\"]\n",
    "                                    if hashtag is not None:\n",
    "                                        hashtags.append(hashtag)\n",
    "                    if \"user_mentions\" in entities:\n",
    "                        for ent in entities[\"user_mentions\"]:\n",
    "                            if ent is not None:\n",
    "                                if \"screen_name\" in ent:\n",
    "                                    name = ent[\"screen_name\"]\n",
    "                                    if name is not None:\n",
    "                                        mentions.append([user, name])\n",
    "        except Exception:\n",
    "            pass\n",
    "\n",
    "    print(\"Done!\")\n",
    "    \n",
    "    hashtags_df = (pd.DataFrame(hashtags, columns = [\"hashtags\"])).to_csv(csvfile1, index = False, encoding = \"utf-8\")\n",
    "    mentions_df = (pd.DataFrame(mentions, columns = [\"mentions\"])).to_csv(csvfile2, index = False, encoding = \"utf-8\")"
   ]
  },
  {
   "cell_type": "code",
   "execution_count": null,
   "id": "9065e0d0",
   "metadata": {},
   "outputs": [],
   "source": []
  }
 ],
 "metadata": {
  "kernelspec": {
   "display_name": "Python 3 (ipykernel)",
   "language": "python",
   "name": "python3"
  },
  "language_info": {
   "codemirror_mode": {
    "name": "ipython",
    "version": 3
   },
   "file_extension": ".py",
   "mimetype": "text/x-python",
   "name": "python",
   "nbconvert_exporter": "python",
   "pygments_lexer": "ipython3",
   "version": "3.8.5"
  }
 },
 "nbformat": 4,
 "nbformat_minor": 5
}
