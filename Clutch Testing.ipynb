{
 "cells": [
  {
   "cell_type": "code",
   "execution_count": 3,
   "id": "c1c538b2",
   "metadata": {},
   "outputs": [],
   "source": [
    "from selenium import webdriver\n",
    "from selenium.webdriver.common.keys import Keys\n",
    "from selenium.webdriver.support import expected_conditions as EC\n",
    "from selenium.webdriver.common.by import By\n",
    "from selenium.webdriver.support.wait import WebDriverWait\n",
    "import pandas as pd\n",
    "import time\n",
    "from bs4 import BeautifulSoup\n",
    "import requests\n",
    "from csv import writer"
   ]
  },
  {
   "cell_type": "code",
   "execution_count": 4,
   "id": "cc3dd1c5",
   "metadata": {},
   "outputs": [],
   "source": [
    "# driver = webdriver.Chrome(executable_path='/home/const/Desktop/WebScraping/geckodriver.log')\n",
    "\n",
    "driver = webdriver.Firefox()\n",
    "driver.get(\"https://clutch.co/profile/orangesoft\")"
   ]
  },
  {
   "cell_type": "code",
   "execution_count": null,
   "id": "1bc7862b",
   "metadata": {},
   "outputs": [],
   "source": [
    "soup = BeautifulSoup(driver.page_source)\n",
    "comp = soup.find_all(\"div\", {\"class\":\"review_data--container\"})\n",
    "for list in comp:\n",
    "    print(\"Hello\")\n",
    "    try:   \n",
    "        reviewDate1 = list.find('div', class_=\"col-md-6 col-lg-7 review-col-reviewtxt\").find(\"h5\",class_=\"h5_title date\")\n",
    "        print(\"--\",reviewDate1)\n",
    "        if reviewDate1 is not None:\n",
    "            reviewDate = reviewDate1.text.replace('\\n', '')\n",
    "            print(\"reviewDate:\",reviewDate)\n",
    "        else:\n",
    "            reviewDate = \"No reviewDate Found\"\n",
    "    except:\n",
    "        reviewDate = \"No reviewDate Found\""
   ]
  }
 ],
 "metadata": {
  "kernelspec": {
   "display_name": "Python 3 (ipykernel)",
   "language": "python",
   "name": "python3"
  },
  "language_info": {
   "codemirror_mode": {
    "name": "ipython",
    "version": 3
   },
   "file_extension": ".py",
   "mimetype": "text/x-python",
   "name": "python",
   "nbconvert_exporter": "python",
   "pygments_lexer": "ipython3",
   "version": "3.8.10"
  }
 },
 "nbformat": 4,
 "nbformat_minor": 5
}
